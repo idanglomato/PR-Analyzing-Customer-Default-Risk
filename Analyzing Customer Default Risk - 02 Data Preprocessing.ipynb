{
 "cells": [
  {
   "cell_type": "markdown",
   "metadata": {},
   "source": [
    "# Analyzing Customer Default Risk"
   ]
  },
  {
   "cell_type": "markdown",
   "metadata": {},
   "source": [
    "## Table of Content <a id='back'></a>\n",
    "\n",
    "* [1. Introduction](#intro)\n",
    "* [2. Initiation](#initiate)\n",
    "    * [2.1. Understanding Data](#overview)\n",
    "\t* [2.2. Data Cleaning](#clean)\n",
    "\t\t* [2.2.1. Invalid Data](#inv)\n",
    "\t\t* [2.2.2. Duplicates](#dup)\n",
    "\t\t* [2.2.3. Missing Data](#mis)\n",
    "\t\t* [2.2.4. Categorical Data](#cat)\n",
    "* [3. Analysis](#analysis)\n",
    "* [4. General Conclusion](#end)"
   ]
  },
  {
   "cell_type": "markdown",
   "metadata": {},
   "source": [
    "## 1. Introduction <a id='intro'></a>"
   ]
  },
  {
   "cell_type": "markdown",
   "metadata": {},
   "source": [
    "### 1.1. Project Description"
   ]
  },
  {
   "cell_type": "markdown",
   "metadata": {},
   "source": [
    "This project is done to help the credit department of a bank. The task is to investigate the influence of a customer's marital status and the number of children they have on the probability of defaulting on loan repayments. The bank already has some data on the creditworthiness of customers. Credit assessment is used to evaluate the ability of potential borrowers to repay their loans."
   ]
  },
  {
   "cell_type": "markdown",
   "metadata": {},
   "source": [
    "### 1.2. Objectives"
   ]
  },
  {
   "cell_type": "markdown",
   "metadata": {},
   "source": [
    "The objective of this project is to answer these questions:\n",
    "* Is there a relationship between having children and the probability of someone defaulting on a loan?\n",
    "* Is there a relationship between marital status and the probability of someone defaulting on a loan?\n",
    "* Is there a relationship between income level and the probability of someone defaulting on a loan?\n",
    "* How does the difference in loan purposes affect the probability of someone defaulting on a loan?"
   ]
  },
  {
   "cell_type": "markdown",
   "metadata": {},
   "source": [
    "### 1.3. Data Description"
   ]
  },
  {
   "cell_type": "markdown",
   "metadata": {},
   "source": [
    "The dataset contains:\n",
    "* children: number of children in the family\n",
    "* days_employed: how long the borrower has been employed\n",
    "* dob_years: age of the borrower\n",
    "* education: education level of the borrower\n",
    "* educationid: identifier for the borrower's education level\n",
    "* family_status: marital status of the borrower\n",
    "* family_status_id: identifier for the borrower's marital status\n",
    "* gender: gender of the borrower\n",
    "* income_type: type of income of the borrower\n",
    "* debt: whether the borrower has ever defaulted on a loan\n",
    "* total_income: monthly income\n",
    "* purpose: reason for taking the loan"
   ]
  },
  {
   "cell_type": "markdown",
   "metadata": {},
   "source": [
    "### 1.4. Methodology"
   ]
  },
  {
   "cell_type": "markdown",
   "metadata": {},
   "source": [
    "The steps taken in this project are:\n",
    "1. Data Validation\n",
    "2. Data Cleaning\n",
    "3. Exploratory Data Analysis\n",
    "4. Conclusion"
   ]
  },
  {
   "cell_type": "markdown",
   "metadata": {},
   "source": [
    "[back to table of contents](#back)"
   ]
  },
  {
   "cell_type": "markdown",
   "metadata": {},
   "source": [
    "## 2. Initiation <a id='initiate'></a>"
   ]
  },
  {
   "cell_type": "markdown",
   "metadata": {},
   "source": [
    "### 2.1. Understanding Data <a id='overview'></a>"
   ]
  },
  {
   "cell_type": "code",
   "execution_count": 1,
   "metadata": {},
   "outputs": [],
   "source": [
    "# Import necessary libraries\n",
    "import pandas as pd"
   ]
  },
  {
   "cell_type": "code",
   "execution_count": 2,
   "metadata": {},
   "outputs": [],
   "source": [
    "# Import dataset\n",
    "credit_score = pd.read_csv('datasets/credit_scoring_eng.csv')"
   ]
  },
  {
   "cell_type": "code",
   "execution_count": 3,
   "metadata": {
    "scrolled": false
   },
   "outputs": [
    {
     "name": "stdout",
     "output_type": "stream",
     "text": [
      "Dataset has 21,525 rows and 12 columns\n"
     ]
    }
   ],
   "source": [
    "print(f'Dataset has {credit_score.shape[0]:,} rows and {credit_score.shape[1]:,} columns')"
   ]
  },
  {
   "cell_type": "code",
   "execution_count": 4,
   "metadata": {
    "scrolled": false
   },
   "outputs": [
    {
     "data": {
      "text/html": [
       "<div>\n",
       "<style scoped>\n",
       "    .dataframe tbody tr th:only-of-type {\n",
       "        vertical-align: middle;\n",
       "    }\n",
       "\n",
       "    .dataframe tbody tr th {\n",
       "        vertical-align: top;\n",
       "    }\n",
       "\n",
       "    .dataframe thead th {\n",
       "        text-align: right;\n",
       "    }\n",
       "</style>\n",
       "<table border=\"1\" class=\"dataframe\">\n",
       "  <thead>\n",
       "    <tr style=\"text-align: right;\">\n",
       "      <th></th>\n",
       "      <th>children</th>\n",
       "      <th>days_employed</th>\n",
       "      <th>dob_years</th>\n",
       "      <th>education</th>\n",
       "      <th>education_id</th>\n",
       "      <th>family_status</th>\n",
       "      <th>family_status_id</th>\n",
       "      <th>gender</th>\n",
       "      <th>income_type</th>\n",
       "      <th>debt</th>\n",
       "      <th>total_income</th>\n",
       "      <th>purpose</th>\n",
       "    </tr>\n",
       "  </thead>\n",
       "  <tbody>\n",
       "    <tr>\n",
       "      <th>0</th>\n",
       "      <td>1</td>\n",
       "      <td>-8437.673028</td>\n",
       "      <td>42</td>\n",
       "      <td>bachelor's degree</td>\n",
       "      <td>0</td>\n",
       "      <td>married</td>\n",
       "      <td>0</td>\n",
       "      <td>F</td>\n",
       "      <td>employee</td>\n",
       "      <td>0</td>\n",
       "      <td>40620.102</td>\n",
       "      <td>purchase of the house</td>\n",
       "    </tr>\n",
       "    <tr>\n",
       "      <th>1</th>\n",
       "      <td>1</td>\n",
       "      <td>-4024.803754</td>\n",
       "      <td>36</td>\n",
       "      <td>secondary education</td>\n",
       "      <td>1</td>\n",
       "      <td>married</td>\n",
       "      <td>0</td>\n",
       "      <td>F</td>\n",
       "      <td>employee</td>\n",
       "      <td>0</td>\n",
       "      <td>17932.802</td>\n",
       "      <td>car purchase</td>\n",
       "    </tr>\n",
       "    <tr>\n",
       "      <th>2</th>\n",
       "      <td>0</td>\n",
       "      <td>-5623.422610</td>\n",
       "      <td>33</td>\n",
       "      <td>Secondary Education</td>\n",
       "      <td>1</td>\n",
       "      <td>married</td>\n",
       "      <td>0</td>\n",
       "      <td>M</td>\n",
       "      <td>employee</td>\n",
       "      <td>0</td>\n",
       "      <td>23341.752</td>\n",
       "      <td>purchase of the house</td>\n",
       "    </tr>\n",
       "    <tr>\n",
       "      <th>3</th>\n",
       "      <td>3</td>\n",
       "      <td>-4124.747207</td>\n",
       "      <td>32</td>\n",
       "      <td>secondary education</td>\n",
       "      <td>1</td>\n",
       "      <td>married</td>\n",
       "      <td>0</td>\n",
       "      <td>M</td>\n",
       "      <td>employee</td>\n",
       "      <td>0</td>\n",
       "      <td>42820.568</td>\n",
       "      <td>supplementary education</td>\n",
       "    </tr>\n",
       "    <tr>\n",
       "      <th>4</th>\n",
       "      <td>0</td>\n",
       "      <td>340266.072047</td>\n",
       "      <td>53</td>\n",
       "      <td>secondary education</td>\n",
       "      <td>1</td>\n",
       "      <td>civil partnership</td>\n",
       "      <td>1</td>\n",
       "      <td>F</td>\n",
       "      <td>retiree</td>\n",
       "      <td>0</td>\n",
       "      <td>25378.572</td>\n",
       "      <td>to have a wedding</td>\n",
       "    </tr>\n",
       "  </tbody>\n",
       "</table>\n",
       "</div>"
      ],
      "text/plain": [
       "   children  days_employed  dob_years            education  education_id  \\\n",
       "0         1   -8437.673028         42    bachelor's degree             0   \n",
       "1         1   -4024.803754         36  secondary education             1   \n",
       "2         0   -5623.422610         33  Secondary Education             1   \n",
       "3         3   -4124.747207         32  secondary education             1   \n",
       "4         0  340266.072047         53  secondary education             1   \n",
       "\n",
       "       family_status  family_status_id gender income_type  debt  total_income  \\\n",
       "0            married                 0      F    employee     0     40620.102   \n",
       "1            married                 0      F    employee     0     17932.802   \n",
       "2            married                 0      M    employee     0     23341.752   \n",
       "3            married                 0      M    employee     0     42820.568   \n",
       "4  civil partnership                 1      F     retiree     0     25378.572   \n",
       "\n",
       "                   purpose  \n",
       "0    purchase of the house  \n",
       "1             car purchase  \n",
       "2    purchase of the house  \n",
       "3  supplementary education  \n",
       "4        to have a wedding  "
      ]
     },
     "execution_count": 4,
     "metadata": {},
     "output_type": "execute_result"
    }
   ],
   "source": [
    "# Showing first 5 rows\n",
    "credit_score.head()"
   ]
  },
  {
   "cell_type": "markdown",
   "metadata": {},
   "source": [
    "Days employed seems to have negative values. Education and purpose columns have different values which have same meanings."
   ]
  },
  {
   "cell_type": "code",
   "execution_count": 5,
   "metadata": {
    "scrolled": true
   },
   "outputs": [
    {
     "name": "stdout",
     "output_type": "stream",
     "text": [
      "<class 'pandas.core.frame.DataFrame'>\n",
      "RangeIndex: 21525 entries, 0 to 21524\n",
      "Data columns (total 12 columns):\n",
      " #   Column            Non-Null Count  Dtype  \n",
      "---  ------            --------------  -----  \n",
      " 0   children          21525 non-null  int64  \n",
      " 1   days_employed     19351 non-null  float64\n",
      " 2   dob_years         21525 non-null  int64  \n",
      " 3   education         21525 non-null  object \n",
      " 4   education_id      21525 non-null  int64  \n",
      " 5   family_status     21525 non-null  object \n",
      " 6   family_status_id  21525 non-null  int64  \n",
      " 7   gender            21525 non-null  object \n",
      " 8   income_type       21525 non-null  object \n",
      " 9   debt              21525 non-null  int64  \n",
      " 10  total_income      19351 non-null  float64\n",
      " 11  purpose           21525 non-null  object \n",
      "dtypes: float64(2), int64(5), object(5)\n",
      "memory usage: 2.0+ MB\n"
     ]
    }
   ],
   "source": [
    "# Dapatkan informasi data\n",
    "credit_score.info() "
   ]
  },
  {
   "cell_type": "markdown",
   "metadata": {},
   "source": [
    "All data is in the right datatypes."
   ]
  },
  {
   "cell_type": "code",
   "execution_count": 6,
   "metadata": {
    "scrolled": true
   },
   "outputs": [
    {
     "data": {
      "text/plain": [
       "days_employed    2174\n",
       "total_income     2174\n",
       "dtype: int64"
      ]
     },
     "execution_count": 6,
     "metadata": {},
     "output_type": "execute_result"
    }
   ],
   "source": [
    "# Show missing value counts\n",
    "credit_score.isna().sum()[credit_score.isna().sum() > 0]"
   ]
  },
  {
   "cell_type": "code",
   "execution_count": 7,
   "metadata": {
    "scrolled": true
   },
   "outputs": [
    {
     "data": {
      "text/plain": [
       "days_employed    0.100999\n",
       "total_income     0.100999\n",
       "dtype: float64"
      ]
     },
     "execution_count": 7,
     "metadata": {},
     "output_type": "execute_result"
    }
   ],
   "source": [
    "# Show missing value counts\n",
    "credit_score.isna().sum()[credit_score.isna().sum() > 0] / len(credit_score)"
   ]
  },
  {
   "cell_type": "markdown",
   "metadata": {},
   "source": [
    "There are 2174 missing values on `days_employed` and `total_income` columns.<br> This is about 10% of the data.<br>\n",
    "Maybe `dob_years` has some correlation with the missing values because if the respondent is underage then he/she won't have any of these values."
   ]
  },
  {
   "cell_type": "code",
   "execution_count": 8,
   "metadata": {},
   "outputs": [
    {
     "name": "stdout",
     "output_type": "stream",
     "text": [
      "Number of duplicated rows = 54\n"
     ]
    }
   ],
   "source": [
    "# Show number of duplicated rows\n",
    "print('Number of duplicated rows =', credit_score.duplicated().sum())"
   ]
  },
  {
   "cell_type": "markdown",
   "metadata": {},
   "source": [
    "There are 54 duplicated rows."
   ]
  },
  {
   "cell_type": "code",
   "execution_count": 9,
   "metadata": {
    "scrolled": true
   },
   "outputs": [
    {
     "data": {
      "text/html": [
       "<div>\n",
       "<style scoped>\n",
       "    .dataframe tbody tr th:only-of-type {\n",
       "        vertical-align: middle;\n",
       "    }\n",
       "\n",
       "    .dataframe tbody tr th {\n",
       "        vertical-align: top;\n",
       "    }\n",
       "\n",
       "    .dataframe thead th {\n",
       "        text-align: right;\n",
       "    }\n",
       "</style>\n",
       "<table border=\"1\" class=\"dataframe\">\n",
       "  <thead>\n",
       "    <tr style=\"text-align: right;\">\n",
       "      <th></th>\n",
       "      <th>children</th>\n",
       "      <th>days_employed</th>\n",
       "      <th>dob_years</th>\n",
       "      <th>education_id</th>\n",
       "      <th>family_status_id</th>\n",
       "      <th>debt</th>\n",
       "      <th>total_income</th>\n",
       "    </tr>\n",
       "  </thead>\n",
       "  <tbody>\n",
       "    <tr>\n",
       "      <th>count</th>\n",
       "      <td>21525.000000</td>\n",
       "      <td>19351.000000</td>\n",
       "      <td>21525.000000</td>\n",
       "      <td>21525.000000</td>\n",
       "      <td>21525.000000</td>\n",
       "      <td>21525.000000</td>\n",
       "      <td>19351.000000</td>\n",
       "    </tr>\n",
       "    <tr>\n",
       "      <th>mean</th>\n",
       "      <td>0.538908</td>\n",
       "      <td>63046.497661</td>\n",
       "      <td>43.293380</td>\n",
       "      <td>0.817236</td>\n",
       "      <td>0.972544</td>\n",
       "      <td>0.080883</td>\n",
       "      <td>26787.568355</td>\n",
       "    </tr>\n",
       "    <tr>\n",
       "      <th>std</th>\n",
       "      <td>1.381587</td>\n",
       "      <td>140827.311974</td>\n",
       "      <td>12.574584</td>\n",
       "      <td>0.548138</td>\n",
       "      <td>1.420324</td>\n",
       "      <td>0.272661</td>\n",
       "      <td>16475.450632</td>\n",
       "    </tr>\n",
       "    <tr>\n",
       "      <th>min</th>\n",
       "      <td>-1.000000</td>\n",
       "      <td>-18388.949901</td>\n",
       "      <td>0.000000</td>\n",
       "      <td>0.000000</td>\n",
       "      <td>0.000000</td>\n",
       "      <td>0.000000</td>\n",
       "      <td>3306.762000</td>\n",
       "    </tr>\n",
       "    <tr>\n",
       "      <th>25%</th>\n",
       "      <td>0.000000</td>\n",
       "      <td>-2747.423625</td>\n",
       "      <td>33.000000</td>\n",
       "      <td>1.000000</td>\n",
       "      <td>0.000000</td>\n",
       "      <td>0.000000</td>\n",
       "      <td>16488.504500</td>\n",
       "    </tr>\n",
       "    <tr>\n",
       "      <th>50%</th>\n",
       "      <td>0.000000</td>\n",
       "      <td>-1203.369529</td>\n",
       "      <td>42.000000</td>\n",
       "      <td>1.000000</td>\n",
       "      <td>0.000000</td>\n",
       "      <td>0.000000</td>\n",
       "      <td>23202.870000</td>\n",
       "    </tr>\n",
       "    <tr>\n",
       "      <th>75%</th>\n",
       "      <td>1.000000</td>\n",
       "      <td>-291.095954</td>\n",
       "      <td>53.000000</td>\n",
       "      <td>1.000000</td>\n",
       "      <td>1.000000</td>\n",
       "      <td>0.000000</td>\n",
       "      <td>32549.611000</td>\n",
       "    </tr>\n",
       "    <tr>\n",
       "      <th>max</th>\n",
       "      <td>20.000000</td>\n",
       "      <td>401755.400475</td>\n",
       "      <td>75.000000</td>\n",
       "      <td>4.000000</td>\n",
       "      <td>4.000000</td>\n",
       "      <td>1.000000</td>\n",
       "      <td>362496.645000</td>\n",
       "    </tr>\n",
       "  </tbody>\n",
       "</table>\n",
       "</div>"
      ],
      "text/plain": [
       "           children  days_employed     dob_years  education_id  \\\n",
       "count  21525.000000   19351.000000  21525.000000  21525.000000   \n",
       "mean       0.538908   63046.497661     43.293380      0.817236   \n",
       "std        1.381587  140827.311974     12.574584      0.548138   \n",
       "min       -1.000000  -18388.949901      0.000000      0.000000   \n",
       "25%        0.000000   -2747.423625     33.000000      1.000000   \n",
       "50%        0.000000   -1203.369529     42.000000      1.000000   \n",
       "75%        1.000000    -291.095954     53.000000      1.000000   \n",
       "max       20.000000  401755.400475     75.000000      4.000000   \n",
       "\n",
       "       family_status_id          debt   total_income  \n",
       "count      21525.000000  21525.000000   19351.000000  \n",
       "mean           0.972544      0.080883   26787.568355  \n",
       "std            1.420324      0.272661   16475.450632  \n",
       "min            0.000000      0.000000    3306.762000  \n",
       "25%            0.000000      0.000000   16488.504500  \n",
       "50%            0.000000      0.000000   23202.870000  \n",
       "75%            1.000000      0.000000   32549.611000  \n",
       "max            4.000000      1.000000  362496.645000  "
      ]
     },
     "execution_count": 9,
     "metadata": {},
     "output_type": "execute_result"
    }
   ],
   "source": [
    "# Checking dataset statistics\n",
    "credit_score.describe()"
   ]
  },
  {
   "cell_type": "markdown",
   "metadata": {},
   "source": [
    "`children, days_employed, and total_income` has maximum values far beyond 75th percentile. This indicates outliers in these columns.<br>\n",
    "`children, and days_employed` columns have negative value which don't make sense."
   ]
  },
  {
   "cell_type": "code",
   "execution_count": 10,
   "metadata": {
    "scrolled": true
   },
   "outputs": [
    {
     "data": {
      "text/html": [
       "<div>\n",
       "<style scoped>\n",
       "    .dataframe tbody tr th:only-of-type {\n",
       "        vertical-align: middle;\n",
       "    }\n",
       "\n",
       "    .dataframe tbody tr th {\n",
       "        vertical-align: top;\n",
       "    }\n",
       "\n",
       "    .dataframe thead th {\n",
       "        text-align: right;\n",
       "    }\n",
       "</style>\n",
       "<table border=\"1\" class=\"dataframe\">\n",
       "  <thead>\n",
       "    <tr style=\"text-align: right;\">\n",
       "      <th></th>\n",
       "      <th>children</th>\n",
       "      <th>days_employed</th>\n",
       "      <th>dob_years</th>\n",
       "      <th>education_id</th>\n",
       "      <th>family_status_id</th>\n",
       "      <th>debt</th>\n",
       "      <th>total_income</th>\n",
       "    </tr>\n",
       "  </thead>\n",
       "  <tbody>\n",
       "    <tr>\n",
       "      <th>count</th>\n",
       "      <td>2174.000000</td>\n",
       "      <td>0.0</td>\n",
       "      <td>2174.000000</td>\n",
       "      <td>2174.000000</td>\n",
       "      <td>2174.000000</td>\n",
       "      <td>2174.000000</td>\n",
       "      <td>0.0</td>\n",
       "    </tr>\n",
       "    <tr>\n",
       "      <th>mean</th>\n",
       "      <td>0.552438</td>\n",
       "      <td>NaN</td>\n",
       "      <td>43.632015</td>\n",
       "      <td>0.800828</td>\n",
       "      <td>0.975161</td>\n",
       "      <td>0.078197</td>\n",
       "      <td>NaN</td>\n",
       "    </tr>\n",
       "    <tr>\n",
       "      <th>std</th>\n",
       "      <td>1.469356</td>\n",
       "      <td>NaN</td>\n",
       "      <td>12.531481</td>\n",
       "      <td>0.530157</td>\n",
       "      <td>1.418220</td>\n",
       "      <td>0.268543</td>\n",
       "      <td>NaN</td>\n",
       "    </tr>\n",
       "    <tr>\n",
       "      <th>min</th>\n",
       "      <td>-1.000000</td>\n",
       "      <td>NaN</td>\n",
       "      <td>0.000000</td>\n",
       "      <td>0.000000</td>\n",
       "      <td>0.000000</td>\n",
       "      <td>0.000000</td>\n",
       "      <td>NaN</td>\n",
       "    </tr>\n",
       "    <tr>\n",
       "      <th>25%</th>\n",
       "      <td>0.000000</td>\n",
       "      <td>NaN</td>\n",
       "      <td>34.000000</td>\n",
       "      <td>0.250000</td>\n",
       "      <td>0.000000</td>\n",
       "      <td>0.000000</td>\n",
       "      <td>NaN</td>\n",
       "    </tr>\n",
       "    <tr>\n",
       "      <th>50%</th>\n",
       "      <td>0.000000</td>\n",
       "      <td>NaN</td>\n",
       "      <td>43.000000</td>\n",
       "      <td>1.000000</td>\n",
       "      <td>0.000000</td>\n",
       "      <td>0.000000</td>\n",
       "      <td>NaN</td>\n",
       "    </tr>\n",
       "    <tr>\n",
       "      <th>75%</th>\n",
       "      <td>1.000000</td>\n",
       "      <td>NaN</td>\n",
       "      <td>54.000000</td>\n",
       "      <td>1.000000</td>\n",
       "      <td>1.000000</td>\n",
       "      <td>0.000000</td>\n",
       "      <td>NaN</td>\n",
       "    </tr>\n",
       "    <tr>\n",
       "      <th>max</th>\n",
       "      <td>20.000000</td>\n",
       "      <td>NaN</td>\n",
       "      <td>73.000000</td>\n",
       "      <td>3.000000</td>\n",
       "      <td>4.000000</td>\n",
       "      <td>1.000000</td>\n",
       "      <td>NaN</td>\n",
       "    </tr>\n",
       "  </tbody>\n",
       "</table>\n",
       "</div>"
      ],
      "text/plain": [
       "          children  days_employed    dob_years  education_id  \\\n",
       "count  2174.000000            0.0  2174.000000   2174.000000   \n",
       "mean      0.552438            NaN    43.632015      0.800828   \n",
       "std       1.469356            NaN    12.531481      0.530157   \n",
       "min      -1.000000            NaN     0.000000      0.000000   \n",
       "25%       0.000000            NaN    34.000000      0.250000   \n",
       "50%       0.000000            NaN    43.000000      1.000000   \n",
       "75%       1.000000            NaN    54.000000      1.000000   \n",
       "max      20.000000            NaN    73.000000      3.000000   \n",
       "\n",
       "       family_status_id         debt  total_income  \n",
       "count       2174.000000  2174.000000           0.0  \n",
       "mean           0.975161     0.078197           NaN  \n",
       "std            1.418220     0.268543           NaN  \n",
       "min            0.000000     0.000000           NaN  \n",
       "25%            0.000000     0.000000           NaN  \n",
       "50%            0.000000     0.000000           NaN  \n",
       "75%            1.000000     0.000000           NaN  \n",
       "max            4.000000     1.000000           NaN  "
      ]
     },
     "execution_count": 10,
     "metadata": {},
     "output_type": "execute_result"
    }
   ],
   "source": [
    "# Checking dataset statistics for missing values\n",
    "credit_score[credit_score['days_employed'].isnull()].describe()"
   ]
  },
  {
   "cell_type": "markdown",
   "metadata": {},
   "source": [
    "All rows with missing values are missing on both `days_employed` and `total_income`"
   ]
  },
  {
   "cell_type": "markdown",
   "metadata": {},
   "source": [
    "[back to table of contents](#back)"
   ]
  },
  {
   "cell_type": "markdown",
   "metadata": {},
   "source": [
    "### 2.2. Data Cleaning <a id='clean'></a>"
   ]
  },
  {
   "cell_type": "markdown",
   "metadata": {},
   "source": [
    "#### 2.2.1. Working with Invalid Data <a id='inv'></a>"
   ]
  },
  {
   "cell_type": "code",
   "execution_count": 11,
   "metadata": {
    "scrolled": true
   },
   "outputs": [
    {
     "data": {
      "text/plain": [
       "[\"BACHELOR'S DEGREE\",\n",
       " \"Bachelor's Degree\",\n",
       " 'GRADUATE DEGREE',\n",
       " 'Graduate Degree',\n",
       " 'PRIMARY EDUCATION',\n",
       " 'Primary Education',\n",
       " 'SECONDARY EDUCATION',\n",
       " 'SOME COLLEGE',\n",
       " 'Secondary Education',\n",
       " 'Some College',\n",
       " \"bachelor's degree\",\n",
       " 'graduate degree',\n",
       " 'primary education',\n",
       " 'secondary education',\n",
       " 'some college']"
      ]
     },
     "execution_count": 11,
     "metadata": {},
     "output_type": "execute_result"
    }
   ],
   "source": [
    "# show the unique pronunciation in education column\n",
    "sorted(credit_score['education'].unique()) "
   ]
  },
  {
   "cell_type": "code",
   "execution_count": 12,
   "metadata": {
    "scrolled": true
   },
   "outputs": [
    {
     "data": {
      "text/plain": [
       "[\"bachelor's degree\",\n",
       " 'graduate degree',\n",
       " 'primary education',\n",
       " 'secondary education',\n",
       " 'some college']"
      ]
     },
     "execution_count": 12,
     "metadata": {},
     "output_type": "execute_result"
    }
   ],
   "source": [
    "# fix education column\n",
    "credit_score['education'] = credit_score['education'].str.lower()\n",
    "sorted(credit_score['education'].unique())"
   ]
  },
  {
   "cell_type": "code",
   "execution_count": 13,
   "metadata": {
    "scrolled": true
   },
   "outputs": [
    {
     "data": {
      "text/plain": [
       "count    21525.000000\n",
       "mean         0.538908\n",
       "std          1.381587\n",
       "min         -1.000000\n",
       "25%          0.000000\n",
       "50%          0.000000\n",
       "75%          1.000000\n",
       "max         20.000000\n",
       "Name: children, dtype: float64"
      ]
     },
     "execution_count": 13,
     "metadata": {},
     "output_type": "execute_result"
    }
   ],
   "source": [
    "# show the unique pronunciation in education column\n",
    "credit_score['children'].describe() "
   ]
  },
  {
   "cell_type": "code",
   "execution_count": 14,
   "metadata": {
    "scrolled": true
   },
   "outputs": [
    {
     "data": {
      "text/plain": [
       "count    21478.000000\n",
       "mean         0.542276\n",
       "std          1.381219\n",
       "min          0.000000\n",
       "25%          0.000000\n",
       "50%          0.000000\n",
       "75%          1.000000\n",
       "max         20.000000\n",
       "Name: children, dtype: float64"
      ]
     },
     "execution_count": 14,
     "metadata": {},
     "output_type": "execute_result"
    }
   ],
   "source": [
    "# Filter the dataset for only rows with number of children >= 0\n",
    "credit_score = credit_score[credit_score['children'] >= 0]\n",
    "credit_score['children'].describe() "
   ]
  },
  {
   "cell_type": "code",
   "execution_count": 15,
   "metadata": {},
   "outputs": [
    {
     "name": "stdout",
     "output_type": "stream",
     "text": [
      "count     19307.000000\n",
      "mean      63064.804509\n",
      "std      140845.743155\n",
      "min      -18388.949901\n",
      "25%       -2746.531801\n",
      "50%       -1203.245164\n",
      "75%        -290.865453\n",
      "max      401755.400475\n",
      "Name: days_employed, dtype: float64\n"
     ]
    }
   ],
   "source": [
    "# show days_employed column\n",
    "print(credit_score['days_employed'].describe())"
   ]
  },
  {
   "cell_type": "code",
   "execution_count": 16,
   "metadata": {},
   "outputs": [
    {
     "name": "stdout",
     "output_type": "stream",
     "text": [
      "Percentage of data with negative value on days_employed is 73.88%\n",
      "Percentage of data with people working more than their age is 16.01%\n",
      "Percentage of data with normal days_employed is 0.0%\n"
     ]
    }
   ],
   "source": [
    "# count the percentage of missing values in days_employed\n",
    "percentage_minus_days_employed = round(len(credit_score[credit_score['days_employed'] < 0])/len(credit_score)*100,2)\n",
    "# count the percentage of people working more than their age\n",
    "percentage_more_than_age_employed = round(len(credit_score[credit_score['days_employed'] > (credit_score['dob_years']*365)])/len(credit_score)*100,2)\n",
    "# count the percentage of normal observation\n",
    "percentage_normal_days_employed = round(len(credit_score[(credit_score['days_employed'] > 0) & (credit_score['days_employed'] <= credit_score['dob_years']*365)])/len(credit_score)*100,2)\n",
    "\n",
    "print(f'Percentage of data with negative value on days_employed is {percentage_minus_days_employed}%')\n",
    "print(f'Percentage of data with people working more than their age is {percentage_more_than_age_employed}%')\n",
    "print(f'Percentage of data with normal days_employed is {percentage_normal_days_employed}%')"
   ]
  },
  {
   "cell_type": "code",
   "execution_count": 17,
   "metadata": {},
   "outputs": [
    {
     "data": {
      "text/html": [
       "<div>\n",
       "<style scoped>\n",
       "    .dataframe tbody tr th:only-of-type {\n",
       "        vertical-align: middle;\n",
       "    }\n",
       "\n",
       "    .dataframe tbody tr th {\n",
       "        vertical-align: top;\n",
       "    }\n",
       "\n",
       "    .dataframe thead th {\n",
       "        text-align: right;\n",
       "    }\n",
       "</style>\n",
       "<table border=\"1\" class=\"dataframe\">\n",
       "  <thead>\n",
       "    <tr style=\"text-align: right;\">\n",
       "      <th></th>\n",
       "      <th>days_employed</th>\n",
       "      <th>income_type</th>\n",
       "    </tr>\n",
       "  </thead>\n",
       "  <tbody>\n",
       "    <tr>\n",
       "      <th>0</th>\n",
       "      <td>-8437.673028</td>\n",
       "      <td>employee</td>\n",
       "    </tr>\n",
       "    <tr>\n",
       "      <th>1</th>\n",
       "      <td>-4024.803754</td>\n",
       "      <td>employee</td>\n",
       "    </tr>\n",
       "    <tr>\n",
       "      <th>2</th>\n",
       "      <td>-5623.422610</td>\n",
       "      <td>employee</td>\n",
       "    </tr>\n",
       "    <tr>\n",
       "      <th>3</th>\n",
       "      <td>-4124.747207</td>\n",
       "      <td>employee</td>\n",
       "    </tr>\n",
       "    <tr>\n",
       "      <th>5</th>\n",
       "      <td>-926.185831</td>\n",
       "      <td>business</td>\n",
       "    </tr>\n",
       "  </tbody>\n",
       "</table>\n",
       "</div>"
      ],
      "text/plain": [
       "   days_employed income_type\n",
       "0   -8437.673028    employee\n",
       "1   -4024.803754    employee\n",
       "2   -5623.422610    employee\n",
       "3   -4124.747207    employee\n",
       "5    -926.185831    business"
      ]
     },
     "execution_count": 17,
     "metadata": {},
     "output_type": "execute_result"
    }
   ],
   "source": [
    "credit_score[credit_score['days_employed'] < 0][['days_employed','income_type']].head()"
   ]
  },
  {
   "cell_type": "markdown",
   "metadata": {},
   "source": [
    "Based on the sample data with negative values in the \"days_employed\" column, it can be observed that in the \"income_type\" column, on average, individuals still have employment, making it impossible to have \"days_employed\" values less than 0. When compared to the correct data, there is no significant difference in the data except for \"days_employed.\" From these two analyses, it can be concluded that the problematic \"days_employed\" data is likely a technical error during data extraction.\n",
    "\n",
    "The action taken for this problematic data is to change the negative values to positive. As for the data with a number of working days greater than the borrower's age, those entries will be deleted."
   ]
  },
  {
   "cell_type": "code",
   "execution_count": 18,
   "metadata": {},
   "outputs": [],
   "source": [
    "import warnings\n",
    "warnings.filterwarnings('ignore')\n",
    "\n",
    "# change negative values to positive values\n",
    "credit_score['days_employed'] = credit_score['days_employed'].abs()\n",
    "\n",
    "# filter out data with days employed more than age\n",
    "credit_score = credit_score[credit_score['days_employed'] <= credit_score['dob_years']*365]"
   ]
  },
  {
   "cell_type": "code",
   "execution_count": 19,
   "metadata": {},
   "outputs": [
    {
     "name": "stdout",
     "output_type": "stream",
     "text": [
      "\n",
      "Persentase data minus di kolom \"days_employed\" adalah 0.0%\n",
      "Persentase data >70 tahun kerja di kolom \"days_employed\" adalah 0.0%\n",
      "Persentase data sesuai di kolom \"days_employed\" adalah 100.0%\n"
     ]
    }
   ],
   "source": [
    "# checking the change\n",
    "total_days_employed = credit_score['days_employed'].count()\n",
    "minus_days_employed = credit_score[credit_score['days_employed'] < 0]['days_employed'].count()\n",
    "more_than_70_yrs_employed = credit_score[credit_score['days_employed'] > (70*365)]['days_employed'].count()\n",
    "normal_days_employed = credit_score[(credit_score['days_employed'] > 0) & (credit_score['days_employed'] <= (70*365))]['days_employed'].count()\n",
    "\n",
    "percentage_minus_days_employed = round(minus_days_employed/total_days_employed*100,2)\n",
    "percentage_more_than_70_years_employed = round(more_than_70_yrs_employed/total_days_employed*100,2)\n",
    "percentage_normal_days_employed = round(normal_days_employed/total_days_employed*100,2)\n",
    "\n",
    "print()\n",
    "print(f'Persentase data minus di kolom \"days_employed\" adalah {percentage_minus_days_employed}%')\n",
    "print(f'Persentase data >70 tahun kerja di kolom \"days_employed\" adalah {percentage_more_than_70_years_employed}%')\n",
    "print(f'Persentase data sesuai di kolom \"days_employed\" adalah {percentage_normal_days_employed}%')\n",
    "\n",
    "# Komentar: sudah tidak ada data bermasalah"
   ]
  },
  {
   "cell_type": "code",
   "execution_count": 20,
   "metadata": {
    "scrolled": true
   },
   "outputs": [
    {
     "data": {
      "text/html": [
       "<div>\n",
       "<style scoped>\n",
       "    .dataframe tbody tr th:only-of-type {\n",
       "        vertical-align: middle;\n",
       "    }\n",
       "\n",
       "    .dataframe tbody tr th {\n",
       "        vertical-align: top;\n",
       "    }\n",
       "\n",
       "    .dataframe thead th {\n",
       "        text-align: right;\n",
       "    }\n",
       "</style>\n",
       "<table border=\"1\" class=\"dataframe\">\n",
       "  <thead>\n",
       "    <tr style=\"text-align: right;\">\n",
       "      <th></th>\n",
       "      <th>children</th>\n",
       "      <th>days_employed</th>\n",
       "      <th>dob_years</th>\n",
       "      <th>education_id</th>\n",
       "      <th>family_status_id</th>\n",
       "      <th>debt</th>\n",
       "      <th>total_income</th>\n",
       "    </tr>\n",
       "  </thead>\n",
       "  <tbody>\n",
       "    <tr>\n",
       "      <th>count</th>\n",
       "      <td>15795.000000</td>\n",
       "      <td>15795.000000</td>\n",
       "      <td>15795.000000</td>\n",
       "      <td>15795.000000</td>\n",
       "      <td>15795.000000</td>\n",
       "      <td>15795.000000</td>\n",
       "      <td>15795.000000</td>\n",
       "    </tr>\n",
       "    <tr>\n",
       "      <th>mean</th>\n",
       "      <td>0.628680</td>\n",
       "      <td>2353.584269</td>\n",
       "      <td>40.003672</td>\n",
       "      <td>0.799050</td>\n",
       "      <td>0.969357</td>\n",
       "      <td>0.087433</td>\n",
       "      <td>27850.520827</td>\n",
       "    </tr>\n",
       "    <tr>\n",
       "      <th>std</th>\n",
       "      <td>1.424011</td>\n",
       "      <td>2305.230814</td>\n",
       "      <td>10.335323</td>\n",
       "      <td>0.555071</td>\n",
       "      <td>1.442388</td>\n",
       "      <td>0.282477</td>\n",
       "      <td>17013.669619</td>\n",
       "    </tr>\n",
       "    <tr>\n",
       "      <th>min</th>\n",
       "      <td>0.000000</td>\n",
       "      <td>24.141633</td>\n",
       "      <td>19.000000</td>\n",
       "      <td>0.000000</td>\n",
       "      <td>0.000000</td>\n",
       "      <td>0.000000</td>\n",
       "      <td>3418.824000</td>\n",
       "    </tr>\n",
       "    <tr>\n",
       "      <th>25%</th>\n",
       "      <td>0.000000</td>\n",
       "      <td>755.511039</td>\n",
       "      <td>32.000000</td>\n",
       "      <td>0.000000</td>\n",
       "      <td>0.000000</td>\n",
       "      <td>0.000000</td>\n",
       "      <td>17321.771000</td>\n",
       "    </tr>\n",
       "    <tr>\n",
       "      <th>50%</th>\n",
       "      <td>0.000000</td>\n",
       "      <td>1630.345479</td>\n",
       "      <td>39.000000</td>\n",
       "      <td>1.000000</td>\n",
       "      <td>0.000000</td>\n",
       "      <td>0.000000</td>\n",
       "      <td>24181.008000</td>\n",
       "    </tr>\n",
       "    <tr>\n",
       "      <th>75%</th>\n",
       "      <td>1.000000</td>\n",
       "      <td>3157.704627</td>\n",
       "      <td>48.000000</td>\n",
       "      <td>1.000000</td>\n",
       "      <td>1.000000</td>\n",
       "      <td>0.000000</td>\n",
       "      <td>33842.118500</td>\n",
       "    </tr>\n",
       "    <tr>\n",
       "      <th>max</th>\n",
       "      <td>20.000000</td>\n",
       "      <td>18388.949901</td>\n",
       "      <td>75.000000</td>\n",
       "      <td>4.000000</td>\n",
       "      <td>4.000000</td>\n",
       "      <td>1.000000</td>\n",
       "      <td>362496.645000</td>\n",
       "    </tr>\n",
       "  </tbody>\n",
       "</table>\n",
       "</div>"
      ],
      "text/plain": [
       "           children  days_employed     dob_years  education_id  \\\n",
       "count  15795.000000   15795.000000  15795.000000  15795.000000   \n",
       "mean       0.628680    2353.584269     40.003672      0.799050   \n",
       "std        1.424011    2305.230814     10.335323      0.555071   \n",
       "min        0.000000      24.141633     19.000000      0.000000   \n",
       "25%        0.000000     755.511039     32.000000      0.000000   \n",
       "50%        0.000000    1630.345479     39.000000      1.000000   \n",
       "75%        1.000000    3157.704627     48.000000      1.000000   \n",
       "max       20.000000   18388.949901     75.000000      4.000000   \n",
       "\n",
       "       family_status_id          debt   total_income  \n",
       "count      15795.000000  15795.000000   15795.000000  \n",
       "mean           0.969357      0.087433   27850.520827  \n",
       "std            1.442388      0.282477   17013.669619  \n",
       "min            0.000000      0.000000    3418.824000  \n",
       "25%            0.000000      0.000000   17321.771000  \n",
       "50%            0.000000      0.000000   24181.008000  \n",
       "75%            1.000000      0.000000   33842.118500  \n",
       "max            4.000000      1.000000  362496.645000  "
      ]
     },
     "execution_count": 20,
     "metadata": {},
     "output_type": "execute_result"
    }
   ],
   "source": [
    "credit_score.describe()"
   ]
  },
  {
   "cell_type": "code",
   "execution_count": 21,
   "metadata": {},
   "outputs": [
    {
     "name": "stdout",
     "output_type": "stream",
     "text": [
      "['married' 'civil partnership' 'divorced' 'unmarried' 'widow / widower']\n"
     ]
    }
   ],
   "source": [
    "# check family status unique values\n",
    "print(credit_score['family_status'].unique())"
   ]
  },
  {
   "cell_type": "code",
   "execution_count": 22,
   "metadata": {},
   "outputs": [
    {
     "name": "stdout",
     "output_type": "stream",
     "text": [
      "['F' 'M' 'XNA']\n"
     ]
    }
   ],
   "source": [
    "# check gender unique values\n",
    "print(credit_score['gender'].unique())"
   ]
  },
  {
   "cell_type": "code",
   "execution_count": 23,
   "metadata": {
    "scrolled": true
   },
   "outputs": [
    {
     "name": "stdout",
     "output_type": "stream",
     "text": [
      "['employee' 'business' 'civil servant' 'student' 'entrepreneur'\n",
      " 'paternity / maternity leave']\n"
     ]
    }
   ],
   "source": [
    "# check income type unique values\n",
    "print(credit_score['income_type'].unique())"
   ]
  },
  {
   "cell_type": "code",
   "execution_count": 24,
   "metadata": {
    "scrolled": false
   },
   "outputs": [
    {
     "name": "stdout",
     "output_type": "stream",
     "text": [
      "Cleaned dataset has 15,795 rows and 12 columns\n"
     ]
    }
   ],
   "source": [
    "print(f'Cleaned dataset has {credit_score.shape[0]:,} rows and {credit_score.shape[1]:,} columns')v"
   ]
  },
  {
   "cell_type": "markdown",
   "metadata": {},
   "source": [
    "[back to table of contents](#back)"
   ]
  },
  {
   "cell_type": "markdown",
   "metadata": {},
   "source": [
    "#### 2.2.2. Handling Duplicated Rows <a id='dup'></a>"
   ]
  },
  {
   "cell_type": "code",
   "execution_count": 25,
   "metadata": {},
   "outputs": [
    {
     "name": "stdout",
     "output_type": "stream",
     "text": [
      "Number of duplicated rows = 0\n"
     ]
    }
   ],
   "source": [
    "# Show number of duplicated rows\n",
    "print('Number of duplicated rows =', credit_score.duplicated().sum())"
   ]
  },
  {
   "cell_type": "markdown",
   "metadata": {},
   "source": [
    "[back to table of contents](#back)"
   ]
  },
  {
   "cell_type": "markdown",
   "metadata": {},
   "source": [
    "#### 2.2.3. Handling Missing Values <a id='mis'></a>"
   ]
  },
  {
   "cell_type": "code",
   "execution_count": 26,
   "metadata": {},
   "outputs": [],
   "source": [
    "# Import libraries\n",
    "import plotly.express as px \n",
    "import numpy as np"
   ]
  },
  {
   "cell_type": "markdown",
   "metadata": {},
   "source": [
    "##### `total_income`"
   ]
  },
  {
   "cell_type": "code",
   "execution_count": 27,
   "metadata": {},
   "outputs": [],
   "source": [
    "# categorize age\n",
    "def assign_dob_category(dob):\n",
    "    if dob < 0:\n",
    "        return float('nan')\n",
    "    elif dob < 10:\n",
    "        return '0-9'\n",
    "    elif dob < 20:\n",
    "        return '10-19'\n",
    "    elif dob < 30:\n",
    "        return '20-29'\n",
    "    elif dob < 40:\n",
    "        return '30-39'\n",
    "    elif dob < 50:\n",
    "        return '40-49'\n",
    "    elif dob < 60:\n",
    "        return '50-59'\n",
    "    elif dob < 70:\n",
    "        return '60-69'\n",
    "    else:\n",
    "        return '70+'"
   ]
  },
  {
   "cell_type": "code",
   "execution_count": 28,
   "metadata": {},
   "outputs": [
    {
     "data": {
      "text/plain": [
       "'60-69'"
      ]
     },
     "execution_count": 28,
     "metadata": {},
     "output_type": "execute_result"
    }
   ],
   "source": [
    "# check whether the function is working or not\n",
    "assign_dob_category(61)"
   ]
  },
  {
   "cell_type": "code",
   "execution_count": 29,
   "metadata": {},
   "outputs": [],
   "source": [
    "# apply age category function\n",
    "credit_score['dob_category'] = credit_score['dob_years'].apply(assign_dob_category)"
   ]
  },
  {
   "cell_type": "code",
   "execution_count": 30,
   "metadata": {},
   "outputs": [
    {
     "data": {
      "text/html": [
       "<div>\n",
       "<style scoped>\n",
       "    .dataframe tbody tr th:only-of-type {\n",
       "        vertical-align: middle;\n",
       "    }\n",
       "\n",
       "    .dataframe tbody tr th {\n",
       "        vertical-align: top;\n",
       "    }\n",
       "\n",
       "    .dataframe thead th {\n",
       "        text-align: right;\n",
       "    }\n",
       "</style>\n",
       "<table border=\"1\" class=\"dataframe\">\n",
       "  <thead>\n",
       "    <tr style=\"text-align: right;\">\n",
       "      <th></th>\n",
       "      <th>children</th>\n",
       "      <th>days_employed</th>\n",
       "      <th>dob_years</th>\n",
       "      <th>education</th>\n",
       "      <th>education_id</th>\n",
       "      <th>family_status</th>\n",
       "      <th>family_status_id</th>\n",
       "      <th>gender</th>\n",
       "      <th>income_type</th>\n",
       "      <th>debt</th>\n",
       "      <th>total_income</th>\n",
       "      <th>purpose</th>\n",
       "      <th>dob_category</th>\n",
       "    </tr>\n",
       "  </thead>\n",
       "  <tbody>\n",
       "    <tr>\n",
       "      <th>0</th>\n",
       "      <td>1</td>\n",
       "      <td>8437.673028</td>\n",
       "      <td>42</td>\n",
       "      <td>bachelor's degree</td>\n",
       "      <td>0</td>\n",
       "      <td>married</td>\n",
       "      <td>0</td>\n",
       "      <td>F</td>\n",
       "      <td>employee</td>\n",
       "      <td>0</td>\n",
       "      <td>40620.102</td>\n",
       "      <td>purchase of the house</td>\n",
       "      <td>40-49</td>\n",
       "    </tr>\n",
       "    <tr>\n",
       "      <th>1</th>\n",
       "      <td>1</td>\n",
       "      <td>4024.803754</td>\n",
       "      <td>36</td>\n",
       "      <td>secondary education</td>\n",
       "      <td>1</td>\n",
       "      <td>married</td>\n",
       "      <td>0</td>\n",
       "      <td>F</td>\n",
       "      <td>employee</td>\n",
       "      <td>0</td>\n",
       "      <td>17932.802</td>\n",
       "      <td>car purchase</td>\n",
       "      <td>30-39</td>\n",
       "    </tr>\n",
       "    <tr>\n",
       "      <th>2</th>\n",
       "      <td>0</td>\n",
       "      <td>5623.422610</td>\n",
       "      <td>33</td>\n",
       "      <td>secondary education</td>\n",
       "      <td>1</td>\n",
       "      <td>married</td>\n",
       "      <td>0</td>\n",
       "      <td>M</td>\n",
       "      <td>employee</td>\n",
       "      <td>0</td>\n",
       "      <td>23341.752</td>\n",
       "      <td>purchase of the house</td>\n",
       "      <td>30-39</td>\n",
       "    </tr>\n",
       "    <tr>\n",
       "      <th>3</th>\n",
       "      <td>3</td>\n",
       "      <td>4124.747207</td>\n",
       "      <td>32</td>\n",
       "      <td>secondary education</td>\n",
       "      <td>1</td>\n",
       "      <td>married</td>\n",
       "      <td>0</td>\n",
       "      <td>M</td>\n",
       "      <td>employee</td>\n",
       "      <td>0</td>\n",
       "      <td>42820.568</td>\n",
       "      <td>supplementary education</td>\n",
       "      <td>30-39</td>\n",
       "    </tr>\n",
       "    <tr>\n",
       "      <th>5</th>\n",
       "      <td>0</td>\n",
       "      <td>926.185831</td>\n",
       "      <td>27</td>\n",
       "      <td>bachelor's degree</td>\n",
       "      <td>0</td>\n",
       "      <td>civil partnership</td>\n",
       "      <td>1</td>\n",
       "      <td>M</td>\n",
       "      <td>business</td>\n",
       "      <td>0</td>\n",
       "      <td>40922.170</td>\n",
       "      <td>purchase of the house</td>\n",
       "      <td>20-29</td>\n",
       "    </tr>\n",
       "  </tbody>\n",
       "</table>\n",
       "</div>"
      ],
      "text/plain": [
       "   children  days_employed  dob_years            education  education_id  \\\n",
       "0         1    8437.673028         42    bachelor's degree             0   \n",
       "1         1    4024.803754         36  secondary education             1   \n",
       "2         0    5623.422610         33  secondary education             1   \n",
       "3         3    4124.747207         32  secondary education             1   \n",
       "5         0     926.185831         27    bachelor's degree             0   \n",
       "\n",
       "       family_status  family_status_id gender income_type  debt  total_income  \\\n",
       "0            married                 0      F    employee     0     40620.102   \n",
       "1            married                 0      F    employee     0     17932.802   \n",
       "2            married                 0      M    employee     0     23341.752   \n",
       "3            married                 0      M    employee     0     42820.568   \n",
       "5  civil partnership                 1      M    business     0     40922.170   \n",
       "\n",
       "                   purpose dob_category  \n",
       "0    purchase of the house        40-49  \n",
       "1             car purchase        30-39  \n",
       "2    purchase of the house        30-39  \n",
       "3  supplementary education        30-39  \n",
       "5    purchase of the house        20-29  "
      ]
     },
     "execution_count": 30,
     "metadata": {},
     "output_type": "execute_result"
    }
   ],
   "source": [
    "# check the new variable\n",
    "credit_score.head()"
   ]
  },
  {
   "cell_type": "code",
   "execution_count": 31,
   "metadata": {},
   "outputs": [
    {
     "data": {
      "text/plain": [
       "30-39    5065\n",
       "40-49    4695\n",
       "20-29    2860\n",
       "50-59    2672\n",
       "60-69     470\n",
       "70+        20\n",
       "10-19      13\n",
       "Name: dob_category, dtype: int64"
      ]
     },
     "execution_count": 31,
     "metadata": {},
     "output_type": "execute_result"
    }
   ],
   "source": [
    "# show category counts\n",
    "credit_score['dob_category'].value_counts(sort=True)"
   ]
  },
  {
   "cell_type": "markdown",
   "metadata": {},
   "source": [
    "The counts follow common sense."
   ]
  },
  {
   "cell_type": "code",
   "execution_count": 32,
   "metadata": {
    "scrolled": true
   },
   "outputs": [
    {
     "data": {
      "text/html": [
       "<div>\n",
       "<style scoped>\n",
       "    .dataframe tbody tr th:only-of-type {\n",
       "        vertical-align: middle;\n",
       "    }\n",
       "\n",
       "    .dataframe tbody tr th {\n",
       "        vertical-align: top;\n",
       "    }\n",
       "\n",
       "    .dataframe thead th {\n",
       "        text-align: right;\n",
       "    }\n",
       "</style>\n",
       "<table border=\"1\" class=\"dataframe\">\n",
       "  <thead>\n",
       "    <tr style=\"text-align: right;\">\n",
       "      <th></th>\n",
       "      <th>children</th>\n",
       "      <th>days_employed</th>\n",
       "      <th>dob_years</th>\n",
       "      <th>education</th>\n",
       "      <th>education_id</th>\n",
       "      <th>family_status</th>\n",
       "      <th>family_status_id</th>\n",
       "      <th>gender</th>\n",
       "      <th>income_type</th>\n",
       "      <th>debt</th>\n",
       "      <th>total_income</th>\n",
       "      <th>purpose</th>\n",
       "      <th>dob_category</th>\n",
       "    </tr>\n",
       "  </thead>\n",
       "  <tbody>\n",
       "    <tr>\n",
       "      <th>0</th>\n",
       "      <td>1</td>\n",
       "      <td>8437.673028</td>\n",
       "      <td>42</td>\n",
       "      <td>bachelor's degree</td>\n",
       "      <td>0</td>\n",
       "      <td>married</td>\n",
       "      <td>0</td>\n",
       "      <td>F</td>\n",
       "      <td>employee</td>\n",
       "      <td>0</td>\n",
       "      <td>40620.102</td>\n",
       "      <td>purchase of the house</td>\n",
       "      <td>40-49</td>\n",
       "    </tr>\n",
       "    <tr>\n",
       "      <th>1</th>\n",
       "      <td>1</td>\n",
       "      <td>4024.803754</td>\n",
       "      <td>36</td>\n",
       "      <td>secondary education</td>\n",
       "      <td>1</td>\n",
       "      <td>married</td>\n",
       "      <td>0</td>\n",
       "      <td>F</td>\n",
       "      <td>employee</td>\n",
       "      <td>0</td>\n",
       "      <td>17932.802</td>\n",
       "      <td>car purchase</td>\n",
       "      <td>30-39</td>\n",
       "    </tr>\n",
       "    <tr>\n",
       "      <th>2</th>\n",
       "      <td>0</td>\n",
       "      <td>5623.422610</td>\n",
       "      <td>33</td>\n",
       "      <td>secondary education</td>\n",
       "      <td>1</td>\n",
       "      <td>married</td>\n",
       "      <td>0</td>\n",
       "      <td>M</td>\n",
       "      <td>employee</td>\n",
       "      <td>0</td>\n",
       "      <td>23341.752</td>\n",
       "      <td>purchase of the house</td>\n",
       "      <td>30-39</td>\n",
       "    </tr>\n",
       "    <tr>\n",
       "      <th>3</th>\n",
       "      <td>3</td>\n",
       "      <td>4124.747207</td>\n",
       "      <td>32</td>\n",
       "      <td>secondary education</td>\n",
       "      <td>1</td>\n",
       "      <td>married</td>\n",
       "      <td>0</td>\n",
       "      <td>M</td>\n",
       "      <td>employee</td>\n",
       "      <td>0</td>\n",
       "      <td>42820.568</td>\n",
       "      <td>supplementary education</td>\n",
       "      <td>30-39</td>\n",
       "    </tr>\n",
       "    <tr>\n",
       "      <th>5</th>\n",
       "      <td>0</td>\n",
       "      <td>926.185831</td>\n",
       "      <td>27</td>\n",
       "      <td>bachelor's degree</td>\n",
       "      <td>0</td>\n",
       "      <td>civil partnership</td>\n",
       "      <td>1</td>\n",
       "      <td>M</td>\n",
       "      <td>business</td>\n",
       "      <td>0</td>\n",
       "      <td>40922.170</td>\n",
       "      <td>purchase of the house</td>\n",
       "      <td>20-29</td>\n",
       "    </tr>\n",
       "  </tbody>\n",
       "</table>\n",
       "</div>"
      ],
      "text/plain": [
       "   children  days_employed  dob_years            education  education_id  \\\n",
       "0         1    8437.673028         42    bachelor's degree             0   \n",
       "1         1    4024.803754         36  secondary education             1   \n",
       "2         0    5623.422610         33  secondary education             1   \n",
       "3         3    4124.747207         32  secondary education             1   \n",
       "5         0     926.185831         27    bachelor's degree             0   \n",
       "\n",
       "       family_status  family_status_id gender income_type  debt  total_income  \\\n",
       "0            married                 0      F    employee     0     40620.102   \n",
       "1            married                 0      F    employee     0     17932.802   \n",
       "2            married                 0      M    employee     0     23341.752   \n",
       "3            married                 0      M    employee     0     42820.568   \n",
       "5  civil partnership                 1      M    business     0     40922.170   \n",
       "\n",
       "                   purpose dob_category  \n",
       "0    purchase of the house        40-49  \n",
       "1             car purchase        30-39  \n",
       "2    purchase of the house        30-39  \n",
       "3  supplementary education        30-39  \n",
       "5    purchase of the house        20-29  "
      ]
     },
     "execution_count": 32,
     "metadata": {},
     "output_type": "execute_result"
    }
   ],
   "source": [
    "# check rows without missing values\n",
    "without_missing = credit_score[credit_score['total_income'].notnull()]\n",
    "without_missing.head()"
   ]
  },
  {
   "cell_type": "code",
   "execution_count": 33,
   "metadata": {
    "scrolled": true
   },
   "outputs": [
    {
     "name": "stdout",
     "output_type": "stream",
     "text": [
      "27850.520826907177\n"
     ]
    }
   ],
   "source": [
    "# check average income\n",
    "print(without_missing['total_income'].mean())"
   ]
  },
  {
   "cell_type": "code",
   "execution_count": 34,
   "metadata": {
    "scrolled": true
   },
   "outputs": [
    {
     "name": "stdout",
     "output_type": "stream",
     "text": [
      "dob_category\n",
      "10-19    16993.942462\n",
      "20-29    25595.839185\n",
      "30-39    28349.986450\n",
      "40-49    28601.544870\n",
      "50-59    27837.177633\n",
      "60-69    29053.495391\n",
      "70+      28046.956800\n",
      "Name: total_income, dtype: float64\n"
     ]
    }
   ],
   "source": [
    "# check average income based on age categories\n",
    "print(without_missing.groupby('dob_category')['total_income'].mean())"
   ]
  },
  {
   "cell_type": "code",
   "execution_count": 35,
   "metadata": {},
   "outputs": [
    {
     "data": {
      "text/html": [
       "<div>\n",
       "<style scoped>\n",
       "    .dataframe tbody tr th:only-of-type {\n",
       "        vertical-align: middle;\n",
       "    }\n",
       "\n",
       "    .dataframe tbody tr th {\n",
       "        vertical-align: top;\n",
       "    }\n",
       "\n",
       "    .dataframe thead th {\n",
       "        text-align: right;\n",
       "    }\n",
       "</style>\n",
       "<table border=\"1\" class=\"dataframe\">\n",
       "  <thead>\n",
       "    <tr style=\"text-align: right;\">\n",
       "      <th></th>\n",
       "      <th>count</th>\n",
       "      <th>mean</th>\n",
       "      <th>std</th>\n",
       "      <th>min</th>\n",
       "      <th>25%</th>\n",
       "      <th>50%</th>\n",
       "      <th>75%</th>\n",
       "      <th>max</th>\n",
       "    </tr>\n",
       "    <tr>\n",
       "      <th>dob_category</th>\n",
       "      <th></th>\n",
       "      <th></th>\n",
       "      <th></th>\n",
       "      <th></th>\n",
       "      <th></th>\n",
       "      <th></th>\n",
       "      <th></th>\n",
       "      <th></th>\n",
       "    </tr>\n",
       "  </thead>\n",
       "  <tbody>\n",
       "    <tr>\n",
       "      <th>10-19</th>\n",
       "      <td>13.0</td>\n",
       "      <td>16993.942462</td>\n",
       "      <td>5567.118012</td>\n",
       "      <td>9459.851</td>\n",
       "      <td>12929.94400</td>\n",
       "      <td>14934.9010</td>\n",
       "      <td>21009.40400</td>\n",
       "      <td>26753.823</td>\n",
       "    </tr>\n",
       "    <tr>\n",
       "      <th>20-29</th>\n",
       "      <td>2860.0</td>\n",
       "      <td>25595.839185</td>\n",
       "      <td>13501.719365</td>\n",
       "      <td>4494.861</td>\n",
       "      <td>16430.75450</td>\n",
       "      <td>22812.9535</td>\n",
       "      <td>30887.71425</td>\n",
       "      <td>131588.163</td>\n",
       "    </tr>\n",
       "    <tr>\n",
       "      <th>30-39</th>\n",
       "      <td>5065.0</td>\n",
       "      <td>28349.986450</td>\n",
       "      <td>17461.660050</td>\n",
       "      <td>5037.321</td>\n",
       "      <td>17662.23800</td>\n",
       "      <td>24735.0640</td>\n",
       "      <td>34430.52000</td>\n",
       "      <td>352136.354</td>\n",
       "    </tr>\n",
       "    <tr>\n",
       "      <th>40-49</th>\n",
       "      <td>4695.0</td>\n",
       "      <td>28601.544870</td>\n",
       "      <td>17968.690945</td>\n",
       "      <td>4036.463</td>\n",
       "      <td>17625.56000</td>\n",
       "      <td>24792.7650</td>\n",
       "      <td>34999.43350</td>\n",
       "      <td>362496.645</td>\n",
       "    </tr>\n",
       "    <tr>\n",
       "      <th>50-59</th>\n",
       "      <td>2672.0</td>\n",
       "      <td>27837.177633</td>\n",
       "      <td>17037.536379</td>\n",
       "      <td>3418.824</td>\n",
       "      <td>17188.71975</td>\n",
       "      <td>23824.6480</td>\n",
       "      <td>33777.20650</td>\n",
       "      <td>195686.797</td>\n",
       "    </tr>\n",
       "    <tr>\n",
       "      <th>60-69</th>\n",
       "      <td>470.0</td>\n",
       "      <td>29053.495391</td>\n",
       "      <td>20258.485810</td>\n",
       "      <td>5430.683</td>\n",
       "      <td>18439.63225</td>\n",
       "      <td>25193.6505</td>\n",
       "      <td>33969.25575</td>\n",
       "      <td>274402.943</td>\n",
       "    </tr>\n",
       "    <tr>\n",
       "      <th>70+</th>\n",
       "      <td>20.0</td>\n",
       "      <td>28046.956800</td>\n",
       "      <td>10621.729671</td>\n",
       "      <td>14536.131</td>\n",
       "      <td>19727.58625</td>\n",
       "      <td>25804.8230</td>\n",
       "      <td>33568.96050</td>\n",
       "      <td>57508.032</td>\n",
       "    </tr>\n",
       "  </tbody>\n",
       "</table>\n",
       "</div>"
      ],
      "text/plain": [
       "               count          mean           std        min          25%  \\\n",
       "dob_category                                                               \n",
       "10-19           13.0  16993.942462   5567.118012   9459.851  12929.94400   \n",
       "20-29         2860.0  25595.839185  13501.719365   4494.861  16430.75450   \n",
       "30-39         5065.0  28349.986450  17461.660050   5037.321  17662.23800   \n",
       "40-49         4695.0  28601.544870  17968.690945   4036.463  17625.56000   \n",
       "50-59         2672.0  27837.177633  17037.536379   3418.824  17188.71975   \n",
       "60-69          470.0  29053.495391  20258.485810   5430.683  18439.63225   \n",
       "70+             20.0  28046.956800  10621.729671  14536.131  19727.58625   \n",
       "\n",
       "                     50%          75%         max  \n",
       "dob_category                                       \n",
       "10-19         14934.9010  21009.40400   26753.823  \n",
       "20-29         22812.9535  30887.71425  131588.163  \n",
       "30-39         24735.0640  34430.52000  352136.354  \n",
       "40-49         24792.7650  34999.43350  362496.645  \n",
       "50-59         23824.6480  33777.20650  195686.797  \n",
       "60-69         25193.6505  33969.25575  274402.943  \n",
       "70+           25804.8230  33568.96050   57508.032  "
      ]
     },
     "execution_count": 35,
     "metadata": {},
     "output_type": "execute_result"
    }
   ],
   "source": [
    "# check income statistics per age categories\n",
    "without_missing.groupby('dob_category')['total_income'].describe()"
   ]
  },
  {
   "cell_type": "markdown",
   "metadata": {},
   "source": [
    "When looking at the distribution, it can be observed that there are outlier data (maximum) with very large values and low frequency within the age range of 20-69. Therefore, it would be more reasonable to use the median as a replacement for missing values within this range and the mean for other ranges to ensure that the analysis results are not distorted."
   ]
  },
  {
   "cell_type": "code",
   "execution_count": 36,
   "metadata": {
    "scrolled": true
   },
   "outputs": [
    {
     "name": "stdout",
     "output_type": "stream",
     "text": [
      "24181.008\n"
     ]
    }
   ],
   "source": [
    "# check income median\n",
    "print(without_missing['total_income'].median())"
   ]
  },
  {
   "cell_type": "code",
   "execution_count": 37,
   "metadata": {
    "scrolled": true
   },
   "outputs": [
    {
     "name": "stdout",
     "output_type": "stream",
     "text": [
      "dob_category\n",
      "10-19    14934.9010\n",
      "20-29    22812.9535\n",
      "30-39    24735.0640\n",
      "40-49    24792.7650\n",
      "50-59    23824.6480\n",
      "60-69    25193.6505\n",
      "70+      25804.8230\n",
      "Name: total_income, dtype: float64\n"
     ]
    }
   ],
   "source": [
    "# check income median based on age categories\n",
    "print(without_missing.groupby('dob_category')['total_income'].median())"
   ]
  },
  {
   "cell_type": "code",
   "execution_count": 38,
   "metadata": {},
   "outputs": [],
   "source": [
    "# function to impute missing values\n",
    "def assign_total_income(category):\n",
    "    if category == '10-19' or category == '70+':\n",
    "        return credit_score[credit_score['dob_category'] == category]['total_income'].mean()\n",
    "    return credit_score[credit_score['dob_category'] == category]['total_income'].median()"
   ]
  },
  {
   "cell_type": "code",
   "execution_count": 39,
   "metadata": {},
   "outputs": [
    {
     "data": {
      "text/plain": [
       "22812.9535"
      ]
     },
     "execution_count": 39,
     "metadata": {},
     "output_type": "execute_result"
    }
   ],
   "source": [
    "# check function usability\n",
    "assign_total_income('20-29')"
   ]
  },
  {
   "cell_type": "code",
   "execution_count": 40,
   "metadata": {},
   "outputs": [
    {
     "name": "stdout",
     "output_type": "stream",
     "text": [
      "['10-19', '20-29', '30-39', '40-49', '50-59', '60-69', '70+']\n"
     ]
    }
   ],
   "source": [
    "# applying total income function\n",
    "dob_categories = ['10-19','20-29','30-39','40-49','50-59','60-69','70+']\n",
    "print(dob_categories)\n",
    "\n",
    "for category in dob_categories:\n",
    "    credit_score.loc[(credit_score['total_income'].isnull()) & (credit_score['dob_category'] == category),'total_income'] = assign_total_income(category)"
   ]
  },
  {
   "cell_type": "code",
   "execution_count": 41,
   "metadata": {
    "scrolled": true
   },
   "outputs": [
    {
     "name": "stdout",
     "output_type": "stream",
     "text": [
      "Number of missing values = 0\n"
     ]
    }
   ],
   "source": [
    "# check null values availability\n",
    "print('Number of missing values =', credit_score['total_income'].isna().sum())"
   ]
  },
  {
   "cell_type": "code",
   "execution_count": 42,
   "metadata": {
    "scrolled": false
   },
   "outputs": [
    {
     "data": {
      "text/html": [
       "<div>\n",
       "<style scoped>\n",
       "    .dataframe tbody tr th:only-of-type {\n",
       "        vertical-align: middle;\n",
       "    }\n",
       "\n",
       "    .dataframe tbody tr th {\n",
       "        vertical-align: top;\n",
       "    }\n",
       "\n",
       "    .dataframe thead th {\n",
       "        text-align: right;\n",
       "    }\n",
       "</style>\n",
       "<table border=\"1\" class=\"dataframe\">\n",
       "  <thead>\n",
       "    <tr style=\"text-align: right;\">\n",
       "      <th></th>\n",
       "      <th>children</th>\n",
       "      <th>days_employed</th>\n",
       "      <th>dob_years</th>\n",
       "      <th>education</th>\n",
       "      <th>education_id</th>\n",
       "      <th>family_status</th>\n",
       "      <th>family_status_id</th>\n",
       "      <th>gender</th>\n",
       "      <th>income_type</th>\n",
       "      <th>debt</th>\n",
       "      <th>total_income</th>\n",
       "      <th>purpose</th>\n",
       "      <th>dob_category</th>\n",
       "    </tr>\n",
       "  </thead>\n",
       "  <tbody>\n",
       "    <tr>\n",
       "      <th>0</th>\n",
       "      <td>1</td>\n",
       "      <td>8437.673028</td>\n",
       "      <td>42</td>\n",
       "      <td>bachelor's degree</td>\n",
       "      <td>0</td>\n",
       "      <td>married</td>\n",
       "      <td>0</td>\n",
       "      <td>F</td>\n",
       "      <td>employee</td>\n",
       "      <td>0</td>\n",
       "      <td>40620.102</td>\n",
       "      <td>purchase of the house</td>\n",
       "      <td>40-49</td>\n",
       "    </tr>\n",
       "    <tr>\n",
       "      <th>1</th>\n",
       "      <td>1</td>\n",
       "      <td>4024.803754</td>\n",
       "      <td>36</td>\n",
       "      <td>secondary education</td>\n",
       "      <td>1</td>\n",
       "      <td>married</td>\n",
       "      <td>0</td>\n",
       "      <td>F</td>\n",
       "      <td>employee</td>\n",
       "      <td>0</td>\n",
       "      <td>17932.802</td>\n",
       "      <td>car purchase</td>\n",
       "      <td>30-39</td>\n",
       "    </tr>\n",
       "    <tr>\n",
       "      <th>2</th>\n",
       "      <td>0</td>\n",
       "      <td>5623.422610</td>\n",
       "      <td>33</td>\n",
       "      <td>secondary education</td>\n",
       "      <td>1</td>\n",
       "      <td>married</td>\n",
       "      <td>0</td>\n",
       "      <td>M</td>\n",
       "      <td>employee</td>\n",
       "      <td>0</td>\n",
       "      <td>23341.752</td>\n",
       "      <td>purchase of the house</td>\n",
       "      <td>30-39</td>\n",
       "    </tr>\n",
       "    <tr>\n",
       "      <th>3</th>\n",
       "      <td>3</td>\n",
       "      <td>4124.747207</td>\n",
       "      <td>32</td>\n",
       "      <td>secondary education</td>\n",
       "      <td>1</td>\n",
       "      <td>married</td>\n",
       "      <td>0</td>\n",
       "      <td>M</td>\n",
       "      <td>employee</td>\n",
       "      <td>0</td>\n",
       "      <td>42820.568</td>\n",
       "      <td>supplementary education</td>\n",
       "      <td>30-39</td>\n",
       "    </tr>\n",
       "    <tr>\n",
       "      <th>5</th>\n",
       "      <td>0</td>\n",
       "      <td>926.185831</td>\n",
       "      <td>27</td>\n",
       "      <td>bachelor's degree</td>\n",
       "      <td>0</td>\n",
       "      <td>civil partnership</td>\n",
       "      <td>1</td>\n",
       "      <td>M</td>\n",
       "      <td>business</td>\n",
       "      <td>0</td>\n",
       "      <td>40922.170</td>\n",
       "      <td>purchase of the house</td>\n",
       "      <td>20-29</td>\n",
       "    </tr>\n",
       "  </tbody>\n",
       "</table>\n",
       "</div>"
      ],
      "text/plain": [
       "   children  days_employed  dob_years            education  education_id  \\\n",
       "0         1    8437.673028         42    bachelor's degree             0   \n",
       "1         1    4024.803754         36  secondary education             1   \n",
       "2         0    5623.422610         33  secondary education             1   \n",
       "3         3    4124.747207         32  secondary education             1   \n",
       "5         0     926.185831         27    bachelor's degree             0   \n",
       "\n",
       "       family_status  family_status_id gender income_type  debt  total_income  \\\n",
       "0            married                 0      F    employee     0     40620.102   \n",
       "1            married                 0      F    employee     0     17932.802   \n",
       "2            married                 0      M    employee     0     23341.752   \n",
       "3            married                 0      M    employee     0     42820.568   \n",
       "5  civil partnership                 1      M    business     0     40922.170   \n",
       "\n",
       "                   purpose dob_category  \n",
       "0    purchase of the house        40-49  \n",
       "1             car purchase        30-39  \n",
       "2    purchase of the house        30-39  \n",
       "3  supplementary education        30-39  \n",
       "5    purchase of the house        20-29  "
      ]
     },
     "metadata": {},
     "output_type": "display_data"
    }
   ],
   "source": [
    "# check dataset again\n",
    "display(credit_score.head(5))"
   ]
  },
  {
   "cell_type": "code",
   "execution_count": 43,
   "metadata": {},
   "outputs": [
    {
     "name": "stdout",
     "output_type": "stream",
     "text": [
      "<class 'pandas.core.frame.DataFrame'>\n",
      "Int64Index: 15795 entries, 0 to 21524\n",
      "Data columns (total 13 columns):\n",
      " #   Column            Non-Null Count  Dtype  \n",
      "---  ------            --------------  -----  \n",
      " 0   children          15795 non-null  int64  \n",
      " 1   days_employed     15795 non-null  float64\n",
      " 2   dob_years         15795 non-null  int64  \n",
      " 3   education         15795 non-null  object \n",
      " 4   education_id      15795 non-null  int64  \n",
      " 5   family_status     15795 non-null  object \n",
      " 6   family_status_id  15795 non-null  int64  \n",
      " 7   gender            15795 non-null  object \n",
      " 8   income_type       15795 non-null  object \n",
      " 9   debt              15795 non-null  int64  \n",
      " 10  total_income      15795 non-null  float64\n",
      " 11  purpose           15795 non-null  object \n",
      " 12  dob_category      15795 non-null  object \n",
      "dtypes: float64(2), int64(5), object(6)\n",
      "memory usage: 1.7+ MB\n"
     ]
    },
    {
     "data": {
      "text/plain": [
       "None"
      ]
     },
     "metadata": {},
     "output_type": "display_data"
    }
   ],
   "source": [
    "# check dataset again\n",
    "display(credit_score.info())"
   ]
  },
  {
   "cell_type": "code",
   "execution_count": 44,
   "metadata": {},
   "outputs": [
    {
     "data": {
      "text/html": [
       "<div>\n",
       "<style scoped>\n",
       "    .dataframe tbody tr th:only-of-type {\n",
       "        vertical-align: middle;\n",
       "    }\n",
       "\n",
       "    .dataframe tbody tr th {\n",
       "        vertical-align: top;\n",
       "    }\n",
       "\n",
       "    .dataframe thead th {\n",
       "        text-align: right;\n",
       "    }\n",
       "</style>\n",
       "<table border=\"1\" class=\"dataframe\">\n",
       "  <thead>\n",
       "    <tr style=\"text-align: right;\">\n",
       "      <th></th>\n",
       "      <th>children</th>\n",
       "      <th>days_employed</th>\n",
       "      <th>dob_years</th>\n",
       "      <th>education_id</th>\n",
       "      <th>family_status_id</th>\n",
       "      <th>debt</th>\n",
       "      <th>total_income</th>\n",
       "    </tr>\n",
       "  </thead>\n",
       "  <tbody>\n",
       "    <tr>\n",
       "      <th>count</th>\n",
       "      <td>15795.000000</td>\n",
       "      <td>15795.000000</td>\n",
       "      <td>15795.000000</td>\n",
       "      <td>15795.000000</td>\n",
       "      <td>15795.000000</td>\n",
       "      <td>15795.000000</td>\n",
       "      <td>15795.000000</td>\n",
       "    </tr>\n",
       "    <tr>\n",
       "      <th>mean</th>\n",
       "      <td>0.628680</td>\n",
       "      <td>2353.584269</td>\n",
       "      <td>40.003672</td>\n",
       "      <td>0.799050</td>\n",
       "      <td>0.969357</td>\n",
       "      <td>0.087433</td>\n",
       "      <td>27850.520827</td>\n",
       "    </tr>\n",
       "    <tr>\n",
       "      <th>std</th>\n",
       "      <td>1.424011</td>\n",
       "      <td>2305.230814</td>\n",
       "      <td>10.335323</td>\n",
       "      <td>0.555071</td>\n",
       "      <td>1.442388</td>\n",
       "      <td>0.282477</td>\n",
       "      <td>17013.669619</td>\n",
       "    </tr>\n",
       "    <tr>\n",
       "      <th>min</th>\n",
       "      <td>0.000000</td>\n",
       "      <td>24.141633</td>\n",
       "      <td>19.000000</td>\n",
       "      <td>0.000000</td>\n",
       "      <td>0.000000</td>\n",
       "      <td>0.000000</td>\n",
       "      <td>3418.824000</td>\n",
       "    </tr>\n",
       "    <tr>\n",
       "      <th>25%</th>\n",
       "      <td>0.000000</td>\n",
       "      <td>755.511039</td>\n",
       "      <td>32.000000</td>\n",
       "      <td>0.000000</td>\n",
       "      <td>0.000000</td>\n",
       "      <td>0.000000</td>\n",
       "      <td>17321.771000</td>\n",
       "    </tr>\n",
       "    <tr>\n",
       "      <th>50%</th>\n",
       "      <td>0.000000</td>\n",
       "      <td>1630.345479</td>\n",
       "      <td>39.000000</td>\n",
       "      <td>1.000000</td>\n",
       "      <td>0.000000</td>\n",
       "      <td>0.000000</td>\n",
       "      <td>24181.008000</td>\n",
       "    </tr>\n",
       "    <tr>\n",
       "      <th>75%</th>\n",
       "      <td>1.000000</td>\n",
       "      <td>3157.704627</td>\n",
       "      <td>48.000000</td>\n",
       "      <td>1.000000</td>\n",
       "      <td>1.000000</td>\n",
       "      <td>0.000000</td>\n",
       "      <td>33842.118500</td>\n",
       "    </tr>\n",
       "    <tr>\n",
       "      <th>max</th>\n",
       "      <td>20.000000</td>\n",
       "      <td>18388.949901</td>\n",
       "      <td>75.000000</td>\n",
       "      <td>4.000000</td>\n",
       "      <td>4.000000</td>\n",
       "      <td>1.000000</td>\n",
       "      <td>362496.645000</td>\n",
       "    </tr>\n",
       "  </tbody>\n",
       "</table>\n",
       "</div>"
      ],
      "text/plain": [
       "           children  days_employed     dob_years  education_id  \\\n",
       "count  15795.000000   15795.000000  15795.000000  15795.000000   \n",
       "mean       0.628680    2353.584269     40.003672      0.799050   \n",
       "std        1.424011    2305.230814     10.335323      0.555071   \n",
       "min        0.000000      24.141633     19.000000      0.000000   \n",
       "25%        0.000000     755.511039     32.000000      0.000000   \n",
       "50%        0.000000    1630.345479     39.000000      1.000000   \n",
       "75%        1.000000    3157.704627     48.000000      1.000000   \n",
       "max       20.000000   18388.949901     75.000000      4.000000   \n",
       "\n",
       "       family_status_id          debt   total_income  \n",
       "count      15795.000000  15795.000000   15795.000000  \n",
       "mean           0.969357      0.087433   27850.520827  \n",
       "std            1.442388      0.282477   17013.669619  \n",
       "min            0.000000      0.000000    3418.824000  \n",
       "25%            0.000000      0.000000   17321.771000  \n",
       "50%            0.000000      0.000000   24181.008000  \n",
       "75%            1.000000      0.000000   33842.118500  \n",
       "max            4.000000      1.000000  362496.645000  "
      ]
     },
     "metadata": {},
     "output_type": "display_data"
    }
   ],
   "source": [
    "# check dataset again\n",
    "display(credit_score.describe())"
   ]
  },
  {
   "cell_type": "markdown",
   "metadata": {},
   "source": [
    "##### `days_employed`"
   ]
  },
  {
   "cell_type": "code",
   "execution_count": 45,
   "metadata": {
    "pycharm": {
     "name": "#%%\n"
    },
    "scrolled": true
   },
   "outputs": [
    {
     "data": {
      "text/plain": [
       "1630.3454789923649"
      ]
     },
     "execution_count": 45,
     "metadata": {},
     "output_type": "execute_result"
    }
   ],
   "source": [
    "# check median of `days_employed` based on identified parameter\n",
    "without_missing['days_employed'].median()"
   ]
  },
  {
   "cell_type": "code",
   "execution_count": 46,
   "metadata": {
    "scrolled": true
   },
   "outputs": [
    {
     "data": {
      "text/html": [
       "<div>\n",
       "<style scoped>\n",
       "    .dataframe tbody tr th:only-of-type {\n",
       "        vertical-align: middle;\n",
       "    }\n",
       "\n",
       "    .dataframe tbody tr th {\n",
       "        vertical-align: top;\n",
       "    }\n",
       "\n",
       "    .dataframe thead th {\n",
       "        text-align: right;\n",
       "    }\n",
       "</style>\n",
       "<table border=\"1\" class=\"dataframe\">\n",
       "  <thead>\n",
       "    <tr style=\"text-align: right;\">\n",
       "      <th></th>\n",
       "      <th>count</th>\n",
       "      <th>mean</th>\n",
       "      <th>std</th>\n",
       "      <th>min</th>\n",
       "      <th>25%</th>\n",
       "      <th>50%</th>\n",
       "      <th>75%</th>\n",
       "      <th>max</th>\n",
       "    </tr>\n",
       "    <tr>\n",
       "      <th>dob_category</th>\n",
       "      <th></th>\n",
       "      <th></th>\n",
       "      <th></th>\n",
       "      <th></th>\n",
       "      <th></th>\n",
       "      <th></th>\n",
       "      <th></th>\n",
       "      <th></th>\n",
       "    </tr>\n",
       "  </thead>\n",
       "  <tbody>\n",
       "    <tr>\n",
       "      <th>10-19</th>\n",
       "      <td>13.0</td>\n",
       "      <td>633.678086</td>\n",
       "      <td>295.838437</td>\n",
       "      <td>111.762790</td>\n",
       "      <td>509.969922</td>\n",
       "      <td>724.492610</td>\n",
       "      <td>796.983636</td>\n",
       "      <td>1020.183130</td>\n",
       "    </tr>\n",
       "    <tr>\n",
       "      <th>20-29</th>\n",
       "      <td>2860.0</td>\n",
       "      <td>1212.003823</td>\n",
       "      <td>900.255356</td>\n",
       "      <td>51.496885</td>\n",
       "      <td>506.802066</td>\n",
       "      <td>999.575144</td>\n",
       "      <td>1686.616325</td>\n",
       "      <td>5673.867214</td>\n",
       "    </tr>\n",
       "    <tr>\n",
       "      <th>30-39</th>\n",
       "      <td>5065.0</td>\n",
       "      <td>2026.639027</td>\n",
       "      <td>1623.719799</td>\n",
       "      <td>24.141633</td>\n",
       "      <td>768.471014</td>\n",
       "      <td>1589.781401</td>\n",
       "      <td>2912.754151</td>\n",
       "      <td>9762.839918</td>\n",
       "    </tr>\n",
       "    <tr>\n",
       "      <th>40-49</th>\n",
       "      <td>4695.0</td>\n",
       "      <td>2732.602714</td>\n",
       "      <td>2406.298827</td>\n",
       "      <td>30.195337</td>\n",
       "      <td>883.372994</td>\n",
       "      <td>2020.068310</td>\n",
       "      <td>3811.386802</td>\n",
       "      <td>13210.485012</td>\n",
       "    </tr>\n",
       "    <tr>\n",
       "      <th>50-59</th>\n",
       "      <td>2672.0</td>\n",
       "      <td>3264.035493</td>\n",
       "      <td>3129.242126</td>\n",
       "      <td>58.276481</td>\n",
       "      <td>1006.332765</td>\n",
       "      <td>2263.727736</td>\n",
       "      <td>4375.762351</td>\n",
       "      <td>16264.699501</td>\n",
       "    </tr>\n",
       "    <tr>\n",
       "      <th>60-69</th>\n",
       "      <td>470.0</td>\n",
       "      <td>3829.275215</td>\n",
       "      <td>3686.593966</td>\n",
       "      <td>100.309421</td>\n",
       "      <td>1163.727365</td>\n",
       "      <td>2663.211434</td>\n",
       "      <td>5164.697230</td>\n",
       "      <td>18388.949901</td>\n",
       "    </tr>\n",
       "    <tr>\n",
       "      <th>70+</th>\n",
       "      <td>20.0</td>\n",
       "      <td>4226.808923</td>\n",
       "      <td>3719.680239</td>\n",
       "      <td>486.662226</td>\n",
       "      <td>1472.162651</td>\n",
       "      <td>2680.232791</td>\n",
       "      <td>6705.223998</td>\n",
       "      <td>13923.375086</td>\n",
       "    </tr>\n",
       "  </tbody>\n",
       "</table>\n",
       "</div>"
      ],
      "text/plain": [
       "               count         mean          std         min          25%  \\\n",
       "dob_category                                                              \n",
       "10-19           13.0   633.678086   295.838437  111.762790   509.969922   \n",
       "20-29         2860.0  1212.003823   900.255356   51.496885   506.802066   \n",
       "30-39         5065.0  2026.639027  1623.719799   24.141633   768.471014   \n",
       "40-49         4695.0  2732.602714  2406.298827   30.195337   883.372994   \n",
       "50-59         2672.0  3264.035493  3129.242126   58.276481  1006.332765   \n",
       "60-69          470.0  3829.275215  3686.593966  100.309421  1163.727365   \n",
       "70+             20.0  4226.808923  3719.680239  486.662226  1472.162651   \n",
       "\n",
       "                      50%          75%           max  \n",
       "dob_category                                          \n",
       "10-19          724.492610   796.983636   1020.183130  \n",
       "20-29          999.575144  1686.616325   5673.867214  \n",
       "30-39         1589.781401  2912.754151   9762.839918  \n",
       "40-49         2020.068310  3811.386802  13210.485012  \n",
       "50-59         2263.727736  4375.762351  16264.699501  \n",
       "60-69         2663.211434  5164.697230  18388.949901  \n",
       "70+           2680.232791  6705.223998  13923.375086  "
      ]
     },
     "execution_count": 46,
     "metadata": {},
     "output_type": "execute_result"
    }
   ],
   "source": [
    "without_missing.groupby('dob_category')['days_employed'].describe()"
   ]
  },
  {
   "cell_type": "code",
   "execution_count": 47,
   "metadata": {},
   "outputs": [],
   "source": [
    "# days employed impute function\n",
    "def assign_days_employed(category):\n",
    "    if category == '10-19' or category == '60-69' or category == '70+':\n",
    "        return credit_score[credit_score['dob_category'] == category]['days_employed'].mean()\n",
    "    return credit_score[credit_score['dob_category'] == category]['days_employed'].median()    "
   ]
  },
  {
   "cell_type": "code",
   "execution_count": 48,
   "metadata": {},
   "outputs": [
    {
     "data": {
      "text/plain": [
       "3829.2752151056256"
      ]
     },
     "execution_count": 48,
     "metadata": {},
     "output_type": "execute_result"
    }
   ],
   "source": [
    "# check function usability\n",
    "assign_days_employed('60-69')"
   ]
  },
  {
   "cell_type": "code",
   "execution_count": 49,
   "metadata": {},
   "outputs": [],
   "source": [
    "# applying function\n",
    "for category in dob_categories:\n",
    "    credit_score.loc[(credit_score['days_employed'].isnull()) & (credit_score['dob_category'] == category),'days_employed'] = assign_days_employed(category)"
   ]
  },
  {
   "cell_type": "code",
   "execution_count": 50,
   "metadata": {
    "scrolled": true
   },
   "outputs": [
    {
     "name": "stdout",
     "output_type": "stream",
     "text": [
      "Number of missing values = 0\n"
     ]
    }
   ],
   "source": [
    "# check null values availability\n",
    "print('Number of missing values =', credit_score['days_employed'].isna().sum())"
   ]
  },
  {
   "cell_type": "code",
   "execution_count": 51,
   "metadata": {},
   "outputs": [
    {
     "name": "stdout",
     "output_type": "stream",
     "text": [
      "<class 'pandas.core.frame.DataFrame'>\n",
      "Int64Index: 15795 entries, 0 to 21524\n",
      "Data columns (total 13 columns):\n",
      " #   Column            Non-Null Count  Dtype  \n",
      "---  ------            --------------  -----  \n",
      " 0   children          15795 non-null  int64  \n",
      " 1   days_employed     15795 non-null  float64\n",
      " 2   dob_years         15795 non-null  int64  \n",
      " 3   education         15795 non-null  object \n",
      " 4   education_id      15795 non-null  int64  \n",
      " 5   family_status     15795 non-null  object \n",
      " 6   family_status_id  15795 non-null  int64  \n",
      " 7   gender            15795 non-null  object \n",
      " 8   income_type       15795 non-null  object \n",
      " 9   debt              15795 non-null  int64  \n",
      " 10  total_income      15795 non-null  float64\n",
      " 11  purpose           15795 non-null  object \n",
      " 12  dob_category      15795 non-null  object \n",
      "dtypes: float64(2), int64(5), object(6)\n",
      "memory usage: 1.7+ MB\n"
     ]
    }
   ],
   "source": [
    "# show dataset info\n",
    "credit_score.info()"
   ]
  },
  {
   "cell_type": "markdown",
   "metadata": {},
   "source": [
    "[back to table of contents](#back)"
   ]
  },
  {
   "cell_type": "markdown",
   "metadata": {},
   "source": [
    "#### 2.2.4. Processing Categorical Variables <a id='cat'></a>"
   ]
  },
  {
   "cell_type": "code",
   "execution_count": 52,
   "metadata": {
    "scrolled": true
   },
   "outputs": [
    {
     "data": {
      "text/plain": [
       "Index(['education', 'family_status', 'gender', 'income_type', 'purpose',\n",
       "       'dob_category'],\n",
       "      dtype='object')"
      ]
     },
     "execution_count": 52,
     "metadata": {},
     "output_type": "execute_result"
    }
   ],
   "source": [
    "# list categorical column names\n",
    "credit_score.select_dtypes(include='object').columns"
   ]
  },
  {
   "cell_type": "code",
   "execution_count": 53,
   "metadata": {
    "scrolled": true
   },
   "outputs": [
    {
     "name": "stdout",
     "output_type": "stream",
     "text": [
      "0     9512\n",
      "1     4075\n",
      "2     1821\n",
      "3      287\n",
      "20      59\n",
      "4       33\n",
      "5        8\n",
      "Name: children, dtype: int64\n"
     ]
    }
   ],
   "source": [
    "# check children value counts\n",
    "print(credit_score['children'].value_counts())"
   ]
  },
  {
   "cell_type": "code",
   "execution_count": 54,
   "metadata": {
    "scrolled": true
   },
   "outputs": [
    {
     "data": {
      "text/plain": [
       "['building a property',\n",
       " 'building a real estate',\n",
       " 'buy commercial real estate',\n",
       " 'buy real estate',\n",
       " 'buy residential real estate',\n",
       " 'buying a second-hand car',\n",
       " 'buying my own car',\n",
       " 'buying property for renting out',\n",
       " 'car',\n",
       " 'car purchase',\n",
       " 'cars',\n",
       " 'construction of own property',\n",
       " 'education',\n",
       " 'getting an education',\n",
       " 'getting higher education',\n",
       " 'going to university',\n",
       " 'having a wedding',\n",
       " 'housing',\n",
       " 'housing renovation',\n",
       " 'housing transactions',\n",
       " 'profile education',\n",
       " 'property',\n",
       " 'purchase of a car',\n",
       " 'purchase of my own house',\n",
       " 'purchase of the house',\n",
       " 'purchase of the house for my family',\n",
       " 'real estate transactions',\n",
       " 'second-hand car purchase',\n",
       " 'supplementary education',\n",
       " 'to become educated',\n",
       " 'to buy a car',\n",
       " 'to get a supplementary education',\n",
       " 'to have a wedding',\n",
       " 'to own a car',\n",
       " 'transactions with commercial real estate',\n",
       " 'transactions with my real estate',\n",
       " 'university education',\n",
       " 'wedding ceremony']"
      ]
     },
     "execution_count": 54,
     "metadata": {},
     "output_type": "execute_result"
    }
   ],
   "source": [
    "# check purpose unique values\n",
    "sorted(credit_score['purpose'].unique())"
   ]
  },
  {
   "cell_type": "code",
   "execution_count": 55,
   "metadata": {},
   "outputs": [],
   "source": [
    "# define function to categorize child\n",
    "def assign_family_with_child(row):\n",
    "    children = row['children']\n",
    "    family_status_id = row['family_status_id']\n",
    "    if family_status_id == 0:\n",
    "        return 'single'\n",
    "    if family_status_id == 1:\n",
    "        if children == 0:\n",
    "            return 'married_without_child'\n",
    "        if children == 1:\n",
    "            return 'married_with_1_child'\n",
    "        if children == 2:\n",
    "            return 'married_with_2_child'\n",
    "        return 'married_with_>=3_child'"
   ]
  },
  {
   "cell_type": "code",
   "execution_count": 56,
   "metadata": {},
   "outputs": [],
   "source": [
    "# create lists to re-categorize purpose\n",
    "own_property = ['building a property', 'building a real estate', 'buy commercial real estate', 'buy real estate', 'buy residential real estate','buying property for renting out','construction of own property','housing', 'housing renovation', 'housing transactions','property','purchase of my own house', 'purchase of the house', 'purchase of the house for my family', 'real estate transactions','transactions with commercial real estate', 'transactions with my real estate']\n",
    "own_car = ['buying a second-hand car', 'buying my own car','car', 'car purchase', 'cars','purchase of a car','second-hand car purchase','to buy a car','to own a car']\n",
    "pursue_education = ['education', 'getting an education', 'getting higher education', 'going to university','profile education','supplementary education', 'to become educated', 'to get a supplementary education','university education']\n",
    "have_wedding = ['having a wedding','to have a wedding','wedding ceremony']"
   ]
  },
  {
   "cell_type": "code",
   "execution_count": 57,
   "metadata": {},
   "outputs": [],
   "source": [
    "# define function to categorize purpose\n",
    "def assign_purpose_category(reason):\n",
    "    if reason in own_property:\n",
    "        return 'property purchase'\n",
    "    if reason in own_car:\n",
    "        return 'car ownership'\n",
    "    if reason in pursue_education:\n",
    "        return 'continue education'\n",
    "    if reason in have_wedding:\n",
    "        return 'having wedding'"
   ]
  },
  {
   "cell_type": "code",
   "execution_count": 58,
   "metadata": {},
   "outputs": [],
   "source": [
    "# apply functions\n",
    "credit_score['status_with_child'] = credit_score.apply(assign_family_with_child, axis=1)\n",
    "credit_score['purpose_category'] = credit_score['purpose'].apply(assign_purpose_category)"
   ]
  },
  {
   "cell_type": "code",
   "execution_count": 59,
   "metadata": {},
   "outputs": [
    {
     "name": "stdout",
     "output_type": "stream",
     "text": [
      "count     15795.000000\n",
      "mean      27850.520827\n",
      "std       17013.669619\n",
      "min        3418.824000\n",
      "25%       17321.771000\n",
      "50%       24181.008000\n",
      "75%       33842.118500\n",
      "max      362496.645000\n",
      "Name: total_income, dtype: float64\n"
     ]
    }
   ],
   "source": [
    "# show statistics summary for total income\n",
    "print(credit_score['total_income'].describe())"
   ]
  },
  {
   "cell_type": "code",
   "execution_count": 60,
   "metadata": {},
   "outputs": [],
   "source": [
    "# define function to catogorize total income\n",
    "def assign_income_category(income):\n",
    "    if income >= 3000 and income < 13000:\n",
    "        return 'Group 1'\n",
    "    if income >= 13000 and income < 23000:\n",
    "        return 'Group 2'\n",
    "    if income >= 23000 and income < 33000:\n",
    "        return 'Group 3'\n",
    "    if income >= 33000 and income < 43000:\n",
    "        return 'Group 4'\n",
    "    if income >= 43000 and income < 53000:\n",
    "        return 'Group 5'\n",
    "    if income >= 53000:\n",
    "        return 'Group 6'"
   ]
  },
  {
   "cell_type": "code",
   "execution_count": 61,
   "metadata": {},
   "outputs": [],
   "source": [
    "# apply function\n",
    "credit_score['income_category'] = credit_score['total_income'].apply(assign_income_category)"
   ]
  },
  {
   "cell_type": "code",
   "execution_count": 62,
   "metadata": {
    "scrolled": false
   },
   "outputs": [
    {
     "name": "stdout",
     "output_type": "stream",
     "text": [
      "single                    9208\n",
      "married_without_child     1926\n",
      "married_with_1_child       845\n",
      "married_with_2_child       302\n",
      "married_with_>=3_child      62\n",
      "Name: status_with_child, dtype: int64\n"
     ]
    }
   ],
   "source": [
    "# display counts for child category\n",
    "print(credit_score['status_with_child'].value_counts())"
   ]
  },
  {
   "cell_type": "code",
   "execution_count": 63,
   "metadata": {
    "scrolled": true
   },
   "outputs": [
    {
     "name": "stdout",
     "output_type": "stream",
     "text": [
      "Group 2    5682\n",
      "Group 3    4395\n",
      "Group 4    2193\n",
      "Group 1    1575\n",
      "Group 6     980\n",
      "Group 5     970\n",
      "Name: income_category, dtype: int64\n"
     ]
    }
   ],
   "source": [
    "# display counts for income category\n",
    "print(credit_score['income_category'].value_counts())"
   ]
  },
  {
   "cell_type": "markdown",
   "metadata": {},
   "source": [
    "[back to table of contents](#back)"
   ]
  },
  {
   "cell_type": "markdown",
   "metadata": {},
   "source": [
    "## 3. Analysis <a id='analysis'></a>"
   ]
  },
  {
   "cell_type": "markdown",
   "metadata": {},
   "source": [
    "**Is there a relationship between having children and the probability of someone defaulting on a loan?**"
   ]
  },
  {
   "cell_type": "code",
   "execution_count": 64,
   "metadata": {},
   "outputs": [
    {
     "name": "stdout",
     "output_type": "stream",
     "text": [
      "Percentage single with bad debt = 8.07%\n",
      "Percentage married_without_child with bad debt = 9.09%\n",
      "Percentage married_with_2_child with bad debt = 8.61%\n",
      "Percentage None with bad debt = nan%\n",
      "Percentage married_with_1_child with bad debt = 11.72%\n",
      "Percentage married_with_>=3_child with bad debt = 12.9%\n"
     ]
    }
   ],
   "source": [
    "# check loan default percentage based on child number\n",
    "status_category = credit_score['status_with_child'].unique()\n",
    "\n",
    "def percentage_bad_debt(category, status):\n",
    "    sum = credit_score.loc[credit_score[category] == status,'debt'].sum()\n",
    "    count = credit_score.loc[credit_score[category] == status,'debt'].count()\n",
    "    return round(sum/count*100,2)\n",
    "\n",
    "for status in status_category:\n",
    "    a = percentage_bad_debt('status_with_child',status)\n",
    "    print(f'Percentage {status} with bad debt = {a}%')"
   ]
  },
  {
   "cell_type": "markdown",
   "metadata": {},
   "source": [
    "**Conclusion**\n",
    "\n",
    "The analysis of the influence of marital status on loan default indicates that the default rate increases as customers get married and as the number of children they have increases."
   ]
  },
  {
   "cell_type": "markdown",
   "metadata": {},
   "source": [
    "**Is there a relationship between marital status and the probability of someone defaulting on a loan?**"
   ]
  },
  {
   "cell_type": "code",
   "execution_count": 65,
   "metadata": {},
   "outputs": [
    {
     "name": "stdout",
     "output_type": "stream",
     "text": [
      "Percentage single with bad debt = 8.07%\n",
      "Percentage family with bad debt = 9.82%\n"
     ]
    }
   ],
   "source": [
    "# check loan default percentage based on marital status\n",
    "sum0 = credit_score.loc[credit_score['family_status_id'] == 0,'debt'].sum()\n",
    "count0 = credit_score.loc[credit_score['family_status_id'] == 0,'debt'].count()\n",
    "sum1 = credit_score.loc[credit_score['family_status_id'] == 1,'debt'].sum()\n",
    "count1 = credit_score.loc[credit_score['family_status_id'] == 1,'debt'].count()\n",
    "\n",
    "print('Percentage single with bad debt = '+str(round(sum0/count0*100,2))+'%')\n",
    "print('Percentage family with bad debt = '+str(round(sum1/count1*100,2))+'%')"
   ]
  },
  {
   "cell_type": "markdown",
   "metadata": {},
   "source": [
    "**Conclusion**\n",
    "\n",
    "Married customers have a higher default rate on loans compared to single customers."
   ]
  },
  {
   "cell_type": "markdown",
   "metadata": {},
   "source": [
    "**Is there a relationship between income level and the probability of someone defaulting on a loan?**"
   ]
  },
  {
   "cell_type": "code",
   "execution_count": 66,
   "metadata": {},
   "outputs": [
    {
     "name": "stdout",
     "output_type": "stream",
     "text": [
      "Percentage Group 1 with bad debt = 8.89%\n",
      "Percentage Group 2 with bad debt = 9.5%\n",
      "Percentage Group 3 with bad debt = 9.24%\n",
      "Percentage Group 4 with bad debt = 6.98%\n",
      "Percentage Group 5 with bad debt = 7.22%\n",
      "Percentage Group 6 with bad debt = 7.35%\n"
     ]
    }
   ],
   "source": [
    "# check loan default percentage based on income level\n",
    "income_categories = []\n",
    "for i in range(1,7):\n",
    "    j = f'Group {i}'\n",
    "    income_categories.append(j)\n",
    "\n",
    "for status in income_categories:\n",
    "    a = percentage_bad_debt('income_category',status)\n",
    "    print(f'Percentage {status} with bad debt = {a}%')"
   ]
  },
  {
   "cell_type": "markdown",
   "metadata": {},
   "source": [
    "**Conclusion**\n",
    "\n",
    "Income groups 2 and 3, with income ranging from 13,000 to 33,000, have the highest default rates, reaching 9.5% and 9.24% respectively. As monthly income increases from 3,000 to 33,000, the default rate also increases. The default rate then decreases, but only slightly, indicating that an increase in income after 33,000 has a positive impact on the borrower's ability to repay, although the decrease in the default rate is minimal."
   ]
  },
  {
   "cell_type": "markdown",
   "metadata": {},
   "source": [
    "**How does the difference in loan purposes affect the probability of someone defaulting on a loan?**"
   ]
  },
  {
   "cell_type": "code",
   "execution_count": 67,
   "metadata": {},
   "outputs": [
    {
     "name": "stdout",
     "output_type": "stream",
     "text": [
      "Percentage property purchase with bad debt = 7.92%\n",
      "Percentage car ownership with bad debt = 10.17%\n",
      "Percentage continue education with bad debt = 9.88%\n",
      "Percentage having wedding with bad debt = 8.01%\n"
     ]
    }
   ],
   "source": [
    "# check loan default percentage based on purpose\n",
    "purpose_categories = credit_score['purpose_category'].unique()\n",
    "\n",
    "for status in purpose_categories:\n",
    "    a = percentage_bad_debt('purpose_category',status)\n",
    "    print(f'Percentage {status} with bad debt = {a}%')"
   ]
  },
  {
   "cell_type": "markdown",
   "metadata": {},
   "source": [
    "**Conclusion**\n",
    "\n",
    "Customers with a loan purpose for purchasing a car have the highest default rate, reaching up to 10.17%, followed by customers with a loan purpose for continuing education with a default rate of 9.88%. Meanwhile, customers with a loan purpose for buying a house have a relatively low default rate of 8.01%. The existence of these differences indicates that the loan purpose affects the default rate."
   ]
  },
  {
   "cell_type": "markdown",
   "metadata": {},
   "source": [
    "[back to table of contents](#back)"
   ]
  },
  {
   "cell_type": "markdown",
   "metadata": {},
   "source": [
    "## 4. General Conclusion <a id='end'></a>"
   ]
  },
  {
   "cell_type": "markdown",
   "metadata": {},
   "source": [
    "The customer dataset used in this case has sufficiently complete data, with missing data only in the \"total_income\" and \"days_employed\" columns. Before filling in the missing data, explicit duplicate data was removed. It is important to note that implicit duplicates in this case were not further examined, so one assumption made in this study is that there are no implicit duplicates in the dataset used.\n",
    "\n",
    "The missing values in these columns were then replaced with the median and mean based on the nature/distribution of the data in both columns, according to age categories. The median was used for skewed data, while the mean was used for relatively symmetric data to avoid data distortion.\n",
    "\n",
    "Based on common sense, there are several parameters that affect the likelihood of defaulting on customer loans. These parameters include family status (family_status_id), number of children (children), total income (total_income), and loan purpose (purpose). In this study, all of these variables were analyzed separately, except for the family_status_id and children parameters. Therefore, the second assumption used in this study is that these parameters independently affect the default rate (mutually exclusive).\n",
    "\n",
    "Four questions were tested in this study:\n",
    "* Is there a correlation between having children and the probability of defaulting on a loan?\n",
    "* Is there a correlation between family status and the probability of defaulting on a loan?\n",
    "* Is there a correlation between income level and the probability of defaulting on a loan?\n",
    "* How does the loan purpose affect the default rate?\n",
    "\n",
    "Conclusion:\n",
    "The default rate increases with the marriage of the borrower and the number of children they have. The default rate also increases with the increase in total income of the borrowers up to 33,000, but decreases thereafter. The loan purpose with the highest default rate is for purchasing a car and continuing education.\n",
    "\n",
    "Recommendations:\n",
    "Allocate fewer loans to married borrowers with many children, borrowers with income in the range of 23,000-33,000, and borrowers seeking loans for buying a car or continuing education. Conversely, allocate loans to unmarried borrowers with few children, income above 33,000, and loan purposes such as buying a house or getting married."
   ]
  },
  {
   "cell_type": "markdown",
   "metadata": {},
   "source": [
    "[back to table of contents](#back)"
   ]
  }
 ],
 "metadata": {
  "ExecuteTimeLog": [
   {
    "duration": 2741,
    "start_time": "2021-10-21T01:08:49.480Z"
   },
   {
    "duration": 52,
    "start_time": "2021-10-21T01:08:53.315Z"
   },
   {
    "duration": 49,
    "start_time": "2021-10-21T01:08:57.432Z"
   },
   {
    "duration": 70,
    "start_time": "2021-10-21T01:09:07.706Z"
   }
  ],
  "kernelspec": {
   "display_name": "Python 3 (ipykernel)",
   "language": "python",
   "name": "python3"
  },
  "language_info": {
   "codemirror_mode": {
    "name": "ipython",
    "version": 3
   },
   "file_extension": ".py",
   "mimetype": "text/x-python",
   "name": "python",
   "nbconvert_exporter": "python",
   "pygments_lexer": "ipython3",
   "version": "3.9.13"
  },
  "toc": {
   "base_numbering": 1,
   "nav_menu": {},
   "number_sections": true,
   "sideBar": true,
   "skip_h1_title": true,
   "title_cell": "Table of Contents",
   "title_sidebar": "Contents",
   "toc_cell": false,
   "toc_position": {},
   "toc_section_display": true,
   "toc_window_display": false
  },
  "vscode": {
   "interpreter": {
    "hash": "ef1728426330606e01c1da091626d7dbd7604032247e9790b44969d857c4f729"
   }
  }
 },
 "nbformat": 4,
 "nbformat_minor": 2
}
